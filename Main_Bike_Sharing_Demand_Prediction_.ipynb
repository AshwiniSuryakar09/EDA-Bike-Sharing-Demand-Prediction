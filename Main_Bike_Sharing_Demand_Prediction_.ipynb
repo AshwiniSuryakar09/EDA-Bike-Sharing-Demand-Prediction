{
  "nbformat": 4,
  "nbformat_minor": 0,
  "metadata": {
    "colab": {
      "private_outputs": true,
      "provenance": [],
      "collapsed_sections": [
        "x71ZqKXriCWQ",
        "7hBIi_osiCS2",
        "bKJF3rekwFvQ",
        "K5QZ13OEpz2H",
        "lQ7QKXXCp7Bj",
        "448CDAPjqfQr",
        "t6dVpIINYklI",
        "ijmpgYnKYklI",
        "-JiQyfWJYklI",
        "gIfDvo9L0UH2"
      ]
    },
    "kernelspec": {
      "name": "python3",
      "display_name": "Python 3"
    },
    "language_info": {
      "name": "python"
    }
  },
  "cells": [
    {
      "cell_type": "markdown",
      "source": [
        "# **Project Name**    - **Bike Sharing Demand Prediction**\n",
        "\n"
      ],
      "metadata": {
        "id": "vncDsAP0Gaoa"
      }
    },
    {
      "cell_type": "markdown",
      "source": [
        "##### **Project Type**    - Regression\n",
        "##### **Contribution**    - Individual\n"
      ],
      "metadata": {
        "id": "beRrZCGUAJYm"
      }
    },
    {
      "cell_type": "markdown",
      "source": [
        "# **Project Summary -**"
      ],
      "metadata": {
        "id": "FJNUwmbgGyua"
      }
    },
    {
      "cell_type": "markdown",
      "source": [
        "Bike Seoul is a bike sharing service in the city of Seoul, South Korea. It is part of the city's efforts to promote sustainable transportation and reduce traffic congestion. The service allows residents and visitors to rent bicycles at various stations across the city and return them to any other station, providing a convenient and eco-friendly mode of transportation. In recent years, the demand for bike rentals in Seoul has increased, leading to the need for a more efficient and effective way to manage the bike sharing operations. Accurately predicting bike demand is crucial for optimizing fleet management, ensuring the availability of bikes at high-demand locations, and reducing waste and costs.\n",
        "\n",
        "The main objective of this project is to develop a machine learning model that can accurately predict the demand for bike rentals in Seoul, South Korea, based on historical data and various relevant factors such as weather conditions, time of day, and public holidays. In this project we have used regression analysis techniques to model the bike demand data. The model trained on a large dataset of past bike rental information, along with relevant weather and time data. The model then be tested and evaluated using metrics such as mean squared error and r-squared values. The actual data is from the Seoul city government's open data portal, and this dataset is also available on Kaggle.\n",
        "\n",
        " We have performed lots of regression algorithms like linear regression, random forest, decision tree, gradient boosting , Xtreme gradient boosting, also we tried to do hyperparameter tuning and cross validation to improve the accuracy of the model. And finally we have decided to select Xtreme gradient boosting algorithm because it gave us high accuracy around 93% and 90% on train and test data resp.\n",
        "\n",
        "This project not only provided valuable insights into bike demand patterns in Seoul but also demonstrated the practical applications of machine learning in addressing real-world problems. The findings could potentially be extended to other cities with similar bike sharing systems, leading to improved services for bike users and more sustainable transportation systems."
      ],
      "metadata": {
        "id": "F6v_1wHtG2nS"
      }
    },
    {
      "cell_type": "markdown",
      "source": [
        "# **GitHub Link -**"
      ],
      "metadata": {
        "id": "w6K7xa23Elo4"
      }
    },
    {
      "cell_type": "markdown",
      "source": [
        "https://github.com/AshwiniSuryakar09/EDA-Bike-Sharing-Demand-Prediction/tree/main"
      ],
      "metadata": {
        "id": "h1o69JH3Eqqn"
      }
    },
    {
      "cell_type": "markdown",
      "source": [
        "# **Problem Statement**\n"
      ],
      "metadata": {
        "id": "yQaldy8SH6Dl"
      }
    },
    {
      "cell_type": "markdown",
      "source": [
        "Currently Rental bikes are introduced in many urban cities for the enhancement of mobility comfort. It is important to make the rental bike available and accessible to the public at the right time as it lessens the waiting time. Eventually, providing the city with a stable supply of rental bikes becomes a major concern. The crucial part is the prediction of bike count required at each hour for the stable supply of rental bikes."
      ],
      "metadata": {
        "id": "DpeJGUA3kjGy"
      }
    },
    {
      "cell_type": "markdown",
      "source": [
        "# **General Guidelines** : -  "
      ],
      "metadata": {
        "id": "mDgbUHAGgjLW"
      }
    },
    {
      "cell_type": "markdown",
      "source": [
        "1.   Well-structured, formatted, and commented code is required.\n",
        "2.   Exception Handling, Production Grade Code & Deployment Ready Code will be a plus. Those students will be awarded some additional credits.\n",
        "     \n",
        "     The additional credits will have advantages over other students during Star Student selection.\n",
        "       \n",
        "             [ Note: - Deployment Ready Code is defined as, the whole .ipynb notebook should be executable in one go\n",
        "                       without a single error logged. ]\n",
        "\n",
        "3.   Each and every logic should have proper comments.\n",
        "4. You may add as many number of charts you want. Make Sure for each and every chart the following format should be answered.\n",
        "        \n",
        "\n",
        "```\n",
        "# Chart visualization code\n",
        "```\n",
        "            \n",
        "\n",
        "*   Why did you pick the specific chart?\n",
        "*   What is/are the insight(s) found from the chart?\n",
        "* Will the gained insights help creating a positive business impact?\n",
        "Are there any insights that lead to negative growth? Justify with specific reason.\n",
        "\n",
        "5. You have to create at least 15 logical & meaningful charts having important insights.\n",
        "\n",
        "\n",
        "[ Hints : - Do the Vizualization in  a structured way while following \"UBM\" Rule.\n",
        "\n",
        "U - Univariate Analysis,\n",
        "\n",
        "B - Bivariate Analysis (Numerical - Categorical, Numerical - Numerical, Categorical - Categorical)\n",
        "\n",
        "M - Multivariate Analysis\n",
        " ]\n",
        "\n",
        "\n",
        "\n",
        "\n",
        "\n",
        "6. You may add more ml algorithms for model creation. Make sure for each and every algorithm, the following format should be answered.\n",
        "\n",
        "\n",
        "*   Explain the ML Model used and it's performance using Evaluation metric Score Chart.\n",
        "\n",
        "\n",
        "*   Cross- Validation & Hyperparameter Tuning\n",
        "\n",
        "*   Have you seen any improvement? Note down the improvement with updates Evaluation metric Score Chart.\n",
        "\n",
        "*   Explain each evaluation metric's indication towards business and the business impact pf the ML model used.\n",
        "\n",
        "\n",
        "\n",
        "\n",
        "\n",
        "\n",
        "\n",
        "\n",
        "\n",
        "\n",
        "\n",
        "\n",
        "\n",
        "\n",
        "\n",
        "\n",
        "\n",
        "\n"
      ],
      "metadata": {
        "id": "ZrxVaUj-hHfC"
      }
    },
    {
      "cell_type": "markdown",
      "source": [
        "# ***Let's Begin !***"
      ],
      "metadata": {
        "id": "O_i_v8NEhb9l"
      }
    },
    {
      "cell_type": "markdown",
      "source": [
        "## ***1. Know Your Data***"
      ],
      "metadata": {
        "id": "HhfV-JJviCcP"
      }
    },
    {
      "cell_type": "markdown",
      "source": [
        "### Import Libraries"
      ],
      "metadata": {
        "id": "Y3lxredqlCYt"
      }
    },
    {
      "cell_type": "code",
      "source": [
        "# Import Libraries\n",
        "import pandas as pd\n",
        "import numpy as np\n",
        "from datetime import datetime as dt\n",
        "\n",
        "\n",
        "# Import Visualization Libraries\n",
        "import seaborn as sns\n",
        "import matplotlib.pyplot as plt\n",
        "%matplotlib inline\n",
        "\n",
        "# Import warnings\n",
        "import warnings\n",
        "warnings.filterwarnings('ignore')\n",
        "\n",
        "# Import preporcessing libraries\n",
        "from sklearn.preprocessing import MinMaxScaler,StandardScaler\n",
        "\n",
        "# Import model selection libraries\n",
        "from sklearn.model_selection import train_test_split,GridSearchCV,RandomizedSearchCV\n",
        "\n",
        "# Import Outlier influence library\n",
        "from statsmodels.stats.outliers_influence import variance_inflation_factor\n",
        "\n",
        "# Import Model\n",
        "from sklearn.linear_model import LinearRegression,Lasso,Ridge\n",
        "from sklearn.tree import DecisionTreeRegressor\n",
        "from sklearn.ensemble import RandomForestRegressor,GradientBoostingRegressor\n",
        "from xgboost import XGBRegressor\n",
        "import xgboost as xgb\n",
        "\n",
        "# Import evaluation metric libraries\n",
        "from sklearn.metrics import mean_squared_error,r2_score,mean_absolute_error\n",
        "\n",
        "# Import tree for visualization\n",
        "from sklearn.tree import export_graphviz\n",
        "from sklearn import tree\n",
        "from IPython.display import SVG,display\n",
        "from graphviz import Source"
      ],
      "metadata": {
        "id": "M8Vqi-pPk-HR"
      },
      "execution_count": null,
      "outputs": []
    },
    {
      "cell_type": "markdown",
      "source": [
        "### Dataset Loading"
      ],
      "metadata": {
        "id": "3RnN4peoiCZX"
      }
    },
    {
      "cell_type": "code",
      "source": [
        "# Mount drive\n",
        "from google.colab import drive\n",
        "drive.mount('/content/drive')"
      ],
      "metadata": {
        "id": "gthqhOIuOMG-"
      },
      "execution_count": null,
      "outputs": []
    },
    {
      "cell_type": "code",
      "source": [
        "# Load Dataset\n",
        "data = pd.read_csv('SeoulBikeData.csv',encoding ='latin-1')"
      ],
      "metadata": {
        "id": "4CkvbW_SlZ_R"
      },
      "execution_count": null,
      "outputs": []
    },
    {
      "cell_type": "markdown",
      "source": [
        "### Dataset First View"
      ],
      "metadata": {
        "id": "x71ZqKXriCWQ"
      }
    },
    {
      "cell_type": "code",
      "source": [
        "# Dataset First Look\n",
        "data.head()"
      ],
      "metadata": {
        "id": "LWNFOSvLl09H"
      },
      "execution_count": null,
      "outputs": []
    },
    {
      "cell_type": "code",
      "source": [
        "data.tail()"
      ],
      "metadata": {
        "id": "hOKKG-ejPK9Q"
      },
      "execution_count": null,
      "outputs": []
    },
    {
      "cell_type": "markdown",
      "source": [
        "### Dataset Rows & Columns count"
      ],
      "metadata": {
        "id": "7hBIi_osiCS2"
      }
    },
    {
      "cell_type": "code",
      "source": [
        "# Dataset Rows & Columns count\n",
        "# Checking number of rows and columns of the dataset using shape\n",
        "print(\"Number of rows are: \",data.shape[0])\n",
        "print(\"Number of columns are: \",data.shape[1])\n"
      ],
      "metadata": {
        "id": "Kllu7SJgmLij"
      },
      "execution_count": null,
      "outputs": []
    },
    {
      "cell_type": "markdown",
      "source": [
        "### Dataset Information"
      ],
      "metadata": {
        "id": "JlHwYmJAmNHm"
      }
    },
    {
      "cell_type": "code",
      "source": [
        "# Dataset Info\n",
        "data.info()"
      ],
      "metadata": {
        "id": "e9hRXRi6meOf"
      },
      "execution_count": null,
      "outputs": []
    },
    {
      "cell_type": "markdown",
      "source": [
        "#### Duplicate Values"
      ],
      "metadata": {
        "id": "35m5QtbWiB9F"
      }
    },
    {
      "cell_type": "code",
      "source": [
        "# Dataset Duplicate Value Count\n",
        "data.duplicated().sum()"
      ],
      "metadata": {
        "id": "1sLdpKYkmox0"
      },
      "execution_count": null,
      "outputs": []
    },
    {
      "cell_type": "markdown",
      "source": [
        "#### Missing Values/Null Values"
      ],
      "metadata": {
        "id": "PoPl-ycgm1ru"
      }
    },
    {
      "cell_type": "code",
      "source": [
        "# Missing Values/Null Values Count\n",
        "data.isnull().sum()"
      ],
      "metadata": {
        "id": "GgHWkxvamxVg"
      },
      "execution_count": null,
      "outputs": []
    },
    {
      "cell_type": "code",
      "source": [
        "# Visualizing the missing values\n",
        "sns.heatmap(data.isnull(),cbar= False)"
      ],
      "metadata": {
        "id": "3q5wnI3om9sJ"
      },
      "execution_count": null,
      "outputs": []
    },
    {
      "cell_type": "markdown",
      "source": [
        "### What did you know about your dataset?"
      ],
      "metadata": {
        "id": "H0kj-8xxnORC"
      }
    },
    {
      "cell_type": "markdown",
      "source": [
        "* There are a total of 14 feature columns where Rented Bike Count is the dependent variable column. The total number of observations(rows) are 8760.\n",
        "\n",
        "* There are no duplicate rows in the dataset.\n",
        "\n",
        "* Also there are no missing values or Null values in the dataset."
      ],
      "metadata": {
        "id": "gfoNAAC-nUe_"
      }
    },
    {
      "cell_type": "markdown",
      "source": [
        "## ***2. Understanding Your Variables***"
      ],
      "metadata": {
        "id": "nA9Y7ga8ng1Z"
      }
    },
    {
      "cell_type": "code",
      "source": [
        "# Dataset Columns\n",
        "data.columns"
      ],
      "metadata": {
        "id": "j7xfkqrt5Ag5"
      },
      "execution_count": null,
      "outputs": []
    },
    {
      "cell_type": "code",
      "source": [
        "# Dataset Describe\n",
        "data.describe().T"
      ],
      "metadata": {
        "id": "DnOaZdaE5Q5t"
      },
      "execution_count": null,
      "outputs": []
    },
    {
      "cell_type": "markdown",
      "source": [
        "### Variables Description"
      ],
      "metadata": {
        "id": "PBTbrJXOngz2"
      }
    },
    {
      "cell_type": "markdown",
      "source": [
        "* Date : year-month-day\n",
        "* Rented Bike Count : Count of bikes rented per hour\n",
        "* Hour : Hour of the day\n",
        "* Temperature(°C)' : Temperature in Celsius\n",
        "* Humidity  : %\n",
        "* Wind speed  : m/s\n",
        "* Visibility  : 10m\n",
        "* Dew point temperature: °C\n",
        "* Solar Radiation  : MJ/m2\n",
        "* Rainfall : mm\n",
        "* Snowfall :  cm\n",
        "* Seasons : Winter,Summer,Autmn,Spring\n",
        "* Holiday : Holiday/Not Holiday\n",
        "* Functioning Day : NoFunc(Non Functional Hours), Fun(Functional hours)\n"
      ],
      "metadata": {
        "id": "aJV4KIxSnxay"
      }
    },
    {
      "cell_type": "markdown",
      "source": [
        "### Check Unique Values for each variable."
      ],
      "metadata": {
        "id": "u3PMJOP6ngxN"
      }
    },
    {
      "cell_type": "code",
      "source": [
        "# Check Unique Values for each variable.\n",
        "for i in data.columns.tolist():\n",
        "  print(\"No.of Unique values in\",i,\"is\",data[i].nunique())"
      ],
      "metadata": {
        "id": "zms12Yq5n-jE"
      },
      "execution_count": null,
      "outputs": []
    },
    {
      "cell_type": "markdown",
      "source": [
        "## 3. ***Data Wrangling***"
      ],
      "metadata": {
        "id": "dauF4eBmngu3"
      }
    },
    {
      "cell_type": "markdown",
      "source": [
        "### Data Wrangling Code"
      ],
      "metadata": {
        "id": "bKJF3rekwFvQ"
      }
    },
    {
      "cell_type": "code",
      "source": [
        "# Before doing any data wrangling lets create copy of the dataset\n",
        "data_2 = data.copy()"
      ],
      "metadata": {
        "id": "r0wqhpc4R9ps"
      },
      "execution_count": null,
      "outputs": []
    },
    {
      "cell_type": "code",
      "source": [
        "data.columns"
      ],
      "metadata": {
        "id": "sGOuQcBBSB3P"
      },
      "execution_count": null,
      "outputs": []
    },
    {
      "cell_type": "code",
      "source": [
        "data_2.rename(columns ={'Date':'date', 'Rented Bike Count':'rented_bike_count', 'Hour':'hour', 'Temperature(°C)':'temperature',\n",
        "                       'Humidity(%)':'humidity','Wind speed (m/s)':'wind_speed', 'Visibility (10m)':'visibility',\n",
        "                        'Dew point temperature(°C)':'dew_point_temperature',\n",
        "                       'Solar Radiation (MJ/m2)':'solar_radiation', 'Rainfall(mm)':'rainfall', 'Snowfall (cm)':'snowfall', 'Seasons':'seasons',\n",
        "                       'Holiday':'holiday', 'Functioning Day':'functioning_day'},inplace = True)"
      ],
      "metadata": {
        "id": "obr89Y3FTMdb"
      },
      "execution_count": null,
      "outputs": []
    },
    {
      "cell_type": "code",
      "source": [
        "data_2.columns"
      ],
      "metadata": {
        "id": "iM7Jc0q_OPub"
      },
      "execution_count": null,
      "outputs": []
    },
    {
      "cell_type": "code",
      "source": [
        "data_2['date'] = pd.to_datetime(data_2['date'], format='%d/%m/%Y').dt.strftime('%d/%m/%Y') # Added format argument to specify the correct format of the date column\n"
      ],
      "metadata": {
        "id": "3AMyNs76UmJj"
      },
      "execution_count": null,
      "outputs": []
    },
    {
      "cell_type": "code",
      "source": [
        "# Creating new columns for day and month\n",
        "data_2['month'] = pd.to_datetime(data_2['date'],format= '%d/%m/%Y').dt.month\n",
        "data_2['day_of_week'] = pd.to_datetime(data_2['date'],format = '%d/%m/%Y').dt.dayofweek"
      ],
      "metadata": {
        "id": "3zjsMPOKT8-s"
      },
      "execution_count": null,
      "outputs": []
    },
    {
      "cell_type": "code",
      "source": [
        "# engineering new feature 'weekend' from day_of_week\n",
        "data_2['weekend'] = data_2['day_of_week'].apply(lambda x: 1 if x>5 else 0)"
      ],
      "metadata": {
        "id": "B9a8nGiJVILR"
      },
      "execution_count": null,
      "outputs": []
    },
    {
      "cell_type": "code",
      "source": [
        "data_2.describe(include='all').round(2)"
      ],
      "metadata": {
        "id": "DTwmRhfFVMAP"
      },
      "execution_count": null,
      "outputs": []
    },
    {
      "cell_type": "code",
      "source": [
        "# defining continuous independent variables separately\n",
        "cont_var = ['temperature', 'humidity', 'wind_speed', 'visibility', 'dew_point_temperature','solar_radiation', 'rainfall', 'snowfall']"
      ],
      "metadata": {
        "id": "NBYtCmmdVQbk"
      },
      "execution_count": null,
      "outputs": []
    },
    {
      "cell_type": "code",
      "source": [
        "# defining dependent variable\n",
        "dependent_variable = ['rented_bike_count']"
      ],
      "metadata": {
        "id": "b7dsZumgVdgy"
      },
      "execution_count": null,
      "outputs": []
    },
    {
      "cell_type": "code",
      "source": [
        "# defining categorical independent variables separately\n",
        "cat_var = ['hour','seasons', 'holiday', 'functioning_day', 'month', 'day_of_week', 'weekend']\n"
      ],
      "metadata": {
        "id": "u08WkX7-VisL"
      },
      "execution_count": null,
      "outputs": []
    },
    {
      "cell_type": "markdown",
      "source": [
        "### What all manipulations have you done and insights you found?"
      ],
      "metadata": {
        "id": "MSa1f5Uengrz"
      }
    },
    {
      "cell_type": "markdown",
      "source": [
        "* From the Date column, 'month' and 'day of the week' columns are created.\n",
        "\n",
        "* From the day of the week column, weekend column is created where 6 and 7 are the weekends (Saturday and Sunday).\n",
        "\n",
        "* We have also defined the continuous variables, dependent variable and categorical variables for ease of plotting graphs."
      ],
      "metadata": {
        "id": "LbyXE7I1olp8"
      }
    },
    {
      "cell_type": "markdown",
      "source": [
        "## ***4. Data Vizualization, Storytelling & Experimenting with charts : Understand the relationships between variables***"
      ],
      "metadata": {
        "id": "GF8Ens_Soomf"
      }
    },
    {
      "cell_type": "markdown",
      "source": [
        "#### Chart - 1 : Dependent variable Distribution"
      ],
      "metadata": {
        "id": "0wOQAZs5pc--"
      }
    },
    {
      "cell_type": "code",
      "source": [
        "# Chart - 1 visualization code for distribution of target variable\n",
        "plt.figure(figsize=(10,8))\n",
        "sns.distplot(data_2['rented_bike_count'])\n",
        "plt.show()"
      ],
      "metadata": {
        "id": "7v_ESjsspbW7"
      },
      "execution_count": null,
      "outputs": []
    },
    {
      "cell_type": "markdown",
      "source": [
        "##### 1. Why did you pick the specific chart?"
      ],
      "metadata": {
        "id": "K5QZ13OEpz2H"
      }
    },
    {
      "cell_type": "markdown",
      "source": [
        "A distplot, also known as a histogram-kernel density estimate (KDE) plot. It is useful because it provides a quick and easy way to check the distribution of the data, identify patterns or outliers, and compare the distribution of multiple variables. It also allows to check if the data is following normal distribution or not.\n",
        "\n",
        "Thus, I used the histogram plot to analyse the variable distributions over the whole dataset whether it's symmetric or not."
      ],
      "metadata": {
        "id": "XESiWehPqBRc"
      }
    },
    {
      "cell_type": "markdown",
      "source": [
        "##### 2. What is/are the insight(s) found from the chart?"
      ],
      "metadata": {
        "id": "lQ7QKXXCp7Bj"
      }
    },
    {
      "cell_type": "markdown",
      "source": [
        "From above distribution plot of dependent variable rented bike, we can clearly see that the distribution is positively skewed (Right skewed).\n",
        "\n",
        "It means that distribution is not symmetric around the the mean."
      ],
      "metadata": {
        "id": "C_j1G7yiqdRP"
      }
    },
    {
      "cell_type": "markdown",
      "source": [
        "##### 3. Will the gained insights help creating a positive business impact?\n",
        "Are there any insights that lead to negative growth? Justify with specific reason."
      ],
      "metadata": {
        "id": "448CDAPjqfQr"
      }
    },
    {
      "cell_type": "markdown",
      "source": [
        "Yes, definately from this insight we got to know that we our data is not normally distributed so, before doing or implementing any model on this data we need to normalise this data."
      ],
      "metadata": {
        "id": "3cspy4FjqxJW"
      }
    },
    {
      "cell_type": "markdown",
      "source": [
        "#### Chart - 2 :  Distribution/ Box plot"
      ],
      "metadata": {
        "id": "KSlN3yHqYklG"
      }
    },
    {
      "cell_type": "code",
      "source": [
        "# Chart - 2 visualization code\n",
        "# Visualizing code of histogram plot & boxplot for each columns to know the data distribution\n",
        "for col in data_2.describe().columns:\n",
        "  fig,axes = plt.subplots(nrows=1,ncols=2,figsize=(20,8))\n",
        "  sns.histplot(data_2[col],ax=axes[0],kde=True)\n",
        "  sns.boxplot(data_2[col],ax= axes[1],orient ='h',showmeans= True,color='Blue')\n",
        "  fig.suptitle(\"Distribution plot of \" + col,fontsize = 15)\n",
        "  plt.show()\n"
      ],
      "metadata": {
        "id": "R4YgtaqtYklH"
      },
      "execution_count": null,
      "outputs": []
    },
    {
      "cell_type": "markdown",
      "source": [
        "##### 1. Why did you pick the specific chart?"
      ],
      "metadata": {
        "id": "t6dVpIINYklI"
      }
    },
    {
      "cell_type": "markdown",
      "source": [
        "A histplot is a type of chart that displays the distribution of a dataset. It is a graphical representation of the data that shows how often each value or group of values occurs. Histplots are useful for understanding the distribution of a dataset and identifying patterns or trends in the data. It is also useful when dealing with large data sets (greater than 100 observations). It can help detect any unusual observations (outliers) or any gaps in the data.\n",
        "\n",
        "Thus, we used the histogram plot to analysis the variable distributions over the whole dataset whether it's symmetric or not.\n",
        "\n",
        "A boxplot is used to summarize the key statistical characteristics of a dataset, including the median, quartiles, and range, in a single plot. Boxplots are useful for identifying the presence of outliers in a dataset, comparing the distribution of multiple datasets, and understanding the dispersion of the data. They are often used in statistical analysis and data visualization.\n",
        "\n",
        "Thus, for each numerical varibale in the given dataset, we used box plot to analyse the outliers and interquartile range including mean, median, maximum and minimum value."
      ],
      "metadata": {
        "id": "5aaW0BYyYklI"
      }
    },
    {
      "cell_type": "markdown",
      "source": [
        "##### 2. What is/are the insight(s) found from the chart?"
      ],
      "metadata": {
        "id": "ijmpgYnKYklI"
      }
    },
    {
      "cell_type": "markdown",
      "source": [
        "From above univariate analysis of all continuous feature variables. We got to know that only tempture and humidity columns are looks normally distributed others shows the different distributions.\n",
        "\n",
        "Also we can see that there are outlier values in snowfall, rainfall, wind speed & solar radiation columns"
      ],
      "metadata": {
        "id": "PSx9atu2YklI"
      }
    },
    {
      "cell_type": "markdown",
      "source": [
        "##### 3. Will the gained insights help creating a positive business impact?\n",
        "Are there any insights that lead to negative growth? Justify with specific reason."
      ],
      "metadata": {
        "id": "-JiQyfWJYklI"
      }
    },
    {
      "cell_type": "markdown",
      "source": [
        "Histogram and Box plot cannot give us whole information regarding data. It's done just to see the distribution of the column data over the dataset."
      ],
      "metadata": {
        "id": "BcBbebzrYklV"
      }
    },
    {
      "cell_type": "markdown",
      "source": [
        "#### Chart - 3 : : Dependent variable with continuous variables (Bivariate)"
      ],
      "metadata": {
        "id": "EM7whBJCYoAo"
      }
    },
    {
      "cell_type": "code",
      "source": [
        "# Chart - 3 visualization code\n",
        "# Analyzing the relationship between the dependent variable and the continuous variable\n",
        "for i in cont_var:\n",
        "  plt.figure(figsize=(11,8))\n",
        "  sns.regplot(x=i, y= dependent_variable[0],data=data_2)\n",
        "  plt.xlabel(i)\n",
        "  plt.ylabel(dependent_variable[0])\n",
        "  plt.title(i+ 'vs' + dependent_variable[0])\n",
        "  plt.show()"
      ],
      "metadata": {
        "id": "t6GMdE67YoAp"
      },
      "execution_count": null,
      "outputs": []
    },
    {
      "cell_type": "markdown",
      "source": [
        "##### 1. Why did you pick the specific chart?"
      ],
      "metadata": {
        "id": "fge-S5ZAYoAp"
      }
    },
    {
      "cell_type": "markdown",
      "source": [
        "Regplot is used to create a scatter plot with linear regression line. The purpose of this function is to visualize the relationship between two continuous variables. It can help to identify patterns and trends in the data, and can also be used to test for linearity and independence of the variables.\n",
        "\n",
        "To check the patterns between independent variable with our rented bike dependent variable we used this regplot."
      ],
      "metadata": {
        "id": "5dBItgRVYoAp"
      }
    },
    {
      "cell_type": "markdown",
      "source": [
        "##### 2. What is/are the insight(s) found from the chart?"
      ],
      "metadata": {
        "id": "85gYPyotYoAp"
      }
    },
    {
      "cell_type": "markdown",
      "source": [
        "From above regression plot we can see that there is some linearity between temperature, solar radiation & dew point temperature with dependent variable rented bike\n",
        "\n",
        "Other variables are not showing any patterns."
      ],
      "metadata": {
        "id": "4jstXR6OYoAp"
      }
    },
    {
      "cell_type": "markdown",
      "source": [
        "##### 3. Will the gained insights help creating a positive business impact?\n",
        "Are there any insights that lead to negative growth? Justify with specific reason."
      ],
      "metadata": {
        "id": "RoGjAbkUYoAp"
      }
    },
    {
      "cell_type": "markdown",
      "source": [
        "Yes, it helped a little bit from this we got to know that there are few variables which are showing some patterns with dependent variable this variable are maybe important feature while predicting for rented bike count so business needs focus on these variables."
      ],
      "metadata": {
        "id": "zfJ8IqMcYoAp"
      }
    },
    {
      "cell_type": "markdown",
      "source": [
        "#### Chart - 4  : Categorical variables with dependent variable (bivariate)"
      ],
      "metadata": {
        "id": "4Of9eVA-YrdM"
      }
    },
    {
      "cell_type": "code",
      "source": [
        "# Chart - 4 visualization code\n",
        "# Analyzing the relationship between the dependent variable and the categorical variables\n",
        "for i in cat_var:\n",
        "  plt.figure(figsize=(11,8))\n",
        "  sns.barplot(x=i,y=dependent_variable[0],data=data_2 ,palette = 'rainbow')\n",
        "  plt.xlabel(i)\n",
        "  plt.ylabel(dependent_variable[0])\n",
        "  plt.title(i+ 'vs'+ dependent_variable[0])\n",
        "  plt.show()"
      ],
      "metadata": {
        "id": "naffs0z6OATA"
      },
      "execution_count": null,
      "outputs": []
    },
    {
      "cell_type": "markdown",
      "source": [
        "##### 1. Why did you pick the specific chart?"
      ],
      "metadata": {
        "id": "iky9q4vBYrdO"
      }
    },
    {
      "cell_type": "markdown",
      "source": [
        "Bar charts are used to compare the size or frequency of different categories or groups of data. Bar charts are useful for comparing data across different categories, and they can be used to display a large amount of data in a small space.\n",
        "\n",
        "To show the distribution of the rented bike count with other categorical variables we used bar charts."
      ],
      "metadata": {
        "id": "aJRCwT6DYrdO"
      }
    },
    {
      "cell_type": "markdown",
      "source": [
        "##### 2. What is/are the insight(s) found from the chart?"
      ],
      "metadata": {
        "id": "F6T5p64dYrdO"
      }
    },
    {
      "cell_type": "markdown",
      "source": [
        "From above bar charts we got insights:\n",
        "\n",
        "* In hour vs rented bike chart there is high demand in the morning 8'o clock and evening 18'o clock\n",
        "* From season vs rented bike chart there is more demand in summer and less demand in winter.\n",
        "* There is high demand on working days.\n",
        "* From month chart we know that there is high demand in month of june."
      ],
      "metadata": {
        "id": "Xx8WAJvtYrdO"
      }
    },
    {
      "cell_type": "markdown",
      "source": [
        "##### 3. Will the gained insights help creating a positive business impact?\n",
        "Are there any insights that lead to negative growth? Justify with specific reason."
      ],
      "metadata": {
        "id": "y-Ehk30pYrdP"
      }
    },
    {
      "cell_type": "markdown",
      "source": [
        "Yes, this insights are going to provide some positive business impact, beacause analysing the demand on the basis of categorical varible we got know that when demand for bike is more so we can focus more on that portion."
      ],
      "metadata": {
        "id": "jLNxxz7MYrdP"
      }
    },
    {
      "cell_type": "markdown",
      "source": [
        "#### Chart - 5 : Rented Bike vs Hour"
      ],
      "metadata": {
        "id": "bamQiAODYuh1"
      }
    },
    {
      "cell_type": "code",
      "source": [
        "# Chart - 5 visualization code\n",
        "#ploting line graph\n",
        "avg_rent_hrs= data_2.groupby('hour')['rented_bike_count'].mean()\n",
        "plt.figure(figsize=(12,6))\n",
        "sns.lineplot(data=avg_rent_hrs,marker='o')\n",
        "plt.title('Average bike rented per hour')\n",
        "plt.show()"
      ],
      "metadata": {
        "id": "TIJwrbroYuh3"
      },
      "execution_count": null,
      "outputs": []
    },
    {
      "cell_type": "markdown",
      "source": [
        "##### 1. Why did you pick the specific chart?"
      ],
      "metadata": {
        "id": "QHF8YVU7Yuh3"
      }
    },
    {
      "cell_type": "markdown",
      "source": [
        "A line plot, also known as a line chart or line graph, is a way to visualize the trend of a single variable over time. It uses a series of data points connected by a line to show how the value of the variable changes over time.\n",
        "\n",
        "Line plots are useful because they can quickly and easily show trends and patterns in the data. They are particularly useful for showing how a variable changes over a period of time. They are also useful for comparing the trends of multiple variables.\n",
        "\n",
        "To see how rented bike demand is distributed over 24 hours time we used line plot."
      ],
      "metadata": {
        "id": "dcxuIMRPYuh3"
      }
    },
    {
      "cell_type": "markdown",
      "source": [
        "##### 2. What is/are the insight(s) found from the chart?"
      ],
      "metadata": {
        "id": "GwzvFGzlYuh3"
      }
    },
    {
      "cell_type": "markdown",
      "source": [
        "From above line plot we can clearly see that there is high demand in the morning and in the evening."
      ],
      "metadata": {
        "id": "uyqkiB8YYuh3"
      }
    },
    {
      "cell_type": "markdown",
      "source": [
        "##### 3. Will the gained insights help creating a positive business impact?\n",
        "Are there any insights that lead to negative growth? Justify with specific reason."
      ],
      "metadata": {
        "id": "qYpmQ266Yuh3"
      }
    },
    {
      "cell_type": "markdown",
      "source": [
        "Yes, from above insight we know that there is high demand in morning and evening so business needs to focus more on that time slot. as well as try to meet the demand on that time slot."
      ],
      "metadata": {
        "id": "_WtzZ_hCYuh4"
      }
    },
    {
      "cell_type": "markdown",
      "source": [
        "#### Chart - 6  : Bike demand throughout the day (Multivariate)"
      ],
      "metadata": {
        "id": "OH-pJp9IphqM"
      }
    },
    {
      "cell_type": "code",
      "source": [
        "# Chart - 6 visualization code\n",
        "for i in cat_var:\n",
        "  if i =='hour':\n",
        "    continue\n",
        "  else:\n",
        "    fig ,ax = plt.subplots(figsize = (12,8))\n",
        "    sns.pointplot(data=data_2,x='hour',y='rented_bike_count',hue =i,ax=ax)\n",
        "    plt.title(\"hourly bike demand broken down based on the attribute: \"+i)\n",
        "    plt.legend(bbox_to_anchor = (1.05,1),loc='upper left' ,title = i)\n",
        "    plt.show()"
      ],
      "metadata": {
        "id": "kuRf4wtuphqN"
      },
      "execution_count": null,
      "outputs": []
    },
    {
      "cell_type": "markdown",
      "source": [
        "##### 1. Why did you pick the specific chart?"
      ],
      "metadata": {
        "id": "bbFf2-_FphqN"
      }
    },
    {
      "cell_type": "markdown",
      "source": [
        "A line plot, also known as a line chart or line graph, is a way to visualize the trend of a single variable over time. It uses a series of data points connected by a line to show how the value of the variable changes over time.\n",
        "\n",
        "Line plots are useful because they can quickly and easily show trends and patterns in the data. They are particularly useful for showing how a variable changes over a period of time. They are also useful for comparing the trends of multiple variables.\n",
        "\n",
        "To show the demand of rented bike throughout the day on the basis of other categorical variable we used line plot drawing multiple lines on charts."
      ],
      "metadata": {
        "id": "loh7H2nzphqN"
      }
    },
    {
      "cell_type": "markdown",
      "source": [
        "##### 2. What is/are the insight(s) found from the chart?"
      ],
      "metadata": {
        "id": "_ouA3fa0phqN"
      }
    },
    {
      "cell_type": "markdown",
      "source": [
        "From above line plots we see that :\n",
        "\n",
        "* In winter season there is no significant demand even in the morning or in the evening.\n",
        "* On the functional day (i.e No Holiday) there is spike in morning and in evening, but that is not there on Holidays.\n",
        "* Around 3 months in winter season (i.e December, January & February) there is low demand.\n",
        "* On weekend almost throught the day there is demand."
      ],
      "metadata": {
        "id": "VECbqPI7phqN"
      }
    },
    {
      "cell_type": "markdown",
      "source": [
        "##### 3. Will the gained insights help creating a positive business impact?\n",
        "Are there any insights that lead to negative growth? Justify with specific reason."
      ],
      "metadata": {
        "id": "Seke61FWphqN"
      }
    },
    {
      "cell_type": "markdown",
      "source": [
        "Yes, from this analysis we figure out some key factors such as high demand in morning and evening slot in all the seasons."
      ],
      "metadata": {
        "id": "DW4_bGpfphqN"
      }
    },
    {
      "cell_type": "markdown",
      "source": [
        "#### Chart - 7 :  Categorical plot for seasons"
      ],
      "metadata": {
        "id": "PIIx-8_IphqN"
      }
    },
    {
      "cell_type": "code",
      "source": [
        "# Chart - 7 visualization code\n",
        "#plot for rented bike count seasonly\n",
        "sns.catplot(x='seasons',y='rented_bike_count',data=data_2)"
      ],
      "metadata": {
        "id": "lqAIGUfyphqO"
      },
      "execution_count": null,
      "outputs": []
    },
    {
      "cell_type": "markdown",
      "source": [
        "##### 1. Why did you pick the specific chart?"
      ],
      "metadata": {
        "id": "t27r6nlMphqO"
      }
    },
    {
      "cell_type": "markdown",
      "source": [
        "Catplot is used to create a categorical plot. Categorical plots are plots that are used to visualize the distribution of a categorical variable. They can be used to show how a variable is related to a categorical variable and can also be used to compare the distribution of multiple categorical variables.\n",
        "\n",
        "To see the distribution of the rented bike on basis of season column we used catplot."
      ],
      "metadata": {
        "id": "iv6ro40sphqO"
      }
    },
    {
      "cell_type": "markdown",
      "source": [
        "##### 2. What is/are the insight(s) found from the chart?"
      ],
      "metadata": {
        "id": "r2jJGEOYphqO"
      }
    },
    {
      "cell_type": "markdown",
      "source": [
        "From above catplot we got know that:\n",
        "\n",
        "1.There is low demand in winter\n",
        "2.Also in all seasons upto the 2500 bike counts distribution is seen dense."
      ],
      "metadata": {
        "id": "Po6ZPi4hphqO"
      }
    },
    {
      "cell_type": "markdown",
      "source": [
        "##### 3. Will the gained insights help creating a positive business impact?\n",
        "Are there any insights that lead to negative growth? Justify with specific reason."
      ],
      "metadata": {
        "id": "b0JNsNcRphqO"
      }
    },
    {
      "cell_type": "markdown",
      "source": [
        "Yes, from this catplot we know that there is high bike count upto the 2500 so, above that there maybe outliers present. business needs to evaluate that."
      ],
      "metadata": {
        "id": "xvSq8iUTphqO"
      }
    },
    {
      "cell_type": "markdown",
      "source": [
        "#### Chart - 8"
      ],
      "metadata": {
        "id": "BZR9WyysphqO"
      }
    },
    {
      "cell_type": "code",
      "source": [
        " # Chart 8 : Visualization code for pie chart\n",
        "Winter=data_2[data_2[\"seasons\"]=='Winter'].sum()\n",
        "Spring=data_2[data_2[\"seasons\"]=='Spring'].sum()\n",
        "Summer=data_2[data_2[\"seasons\"]=='Summer'].sum()\n",
        "Autumn=data_2[data_2[\"seasons\"]=='Autumn'].sum()\n",
        "\n",
        "BikeSeasons={\"Winter\":Winter[\"rented_bike_count\"],\"Spring\":Spring[\"rented_bike_count\"],\"Summer\":Summer[\"rented_bike_count\"],\"Autumn\":Autumn[\"rented_bike_count\"]}\n",
        "plt.gcf().set_size_inches(10,10)\n",
        "plt.pie(BikeSeasons.values(),labels=BikeSeasons.keys(), autopct='%1d%%');\n",
        "plt.title(\"Repartition of bikes rental by season\", fontsize=20)\n",
        "plt.show()"
      ],
      "metadata": {
        "id": "V0Xv2znxiY-E"
      },
      "execution_count": null,
      "outputs": []
    },
    {
      "cell_type": "markdown",
      "source": [
        "##### 1. Why did you pick the specific chart?"
      ],
      "metadata": {
        "id": "jj7wYXLtphqO"
      }
    },
    {
      "cell_type": "markdown",
      "source": [
        "Pie charts are generally used to show the proportions of a whole, and are especially useful for displaying data that has already been calculated as a percentage of the whole.\n",
        "\n",
        "So, we used pie chart to see percentage distribution of rented bike on the basis of sseasons"
      ],
      "metadata": {
        "id": "Ob8u6rCTphqO"
      }
    },
    {
      "cell_type": "markdown",
      "source": [
        "##### 2. What is/are the insight(s) found from the chart?"
      ],
      "metadata": {
        "id": "eZrbJ2SmphqO"
      }
    },
    {
      "cell_type": "markdown",
      "source": [
        "From above pie chart:\n",
        "\n",
        "In year data season summer contributes around 36% then autumn around 29%\n",
        "Lowest demand in winter, it contributes around only 7%"
      ],
      "metadata": {
        "id": "mZtgC_hjphqO"
      }
    },
    {
      "cell_type": "markdown",
      "source": [
        "##### 3. Will the gained insights help creating a positive business impact?\n",
        "Are there any insights that lead to negative growth? Justify with specific reason."
      ],
      "metadata": {
        "id": "rFu4xreNphqO"
      }
    },
    {
      "cell_type": "markdown",
      "source": [
        "This insights only tell about percentage contribution of year data of season varible, which clearly gave indication about demand."
      ],
      "metadata": {
        "id": "ey_0qi68phqO"
      }
    },
    {
      "cell_type": "markdown",
      "source": [
        "### **Chart - 14 - Correlation Heatmap**"
      ],
      "metadata": {
        "id": "YJ55k-q6phqO"
      }
    },
    {
      "cell_type": "code",
      "source": [
        "# Chart - 9 visualization code\n",
        "# Correlation Heatmap visualization code\n",
        "corr = data_2.corr(numeric_only=True)\n",
        "mask = np.zeros_like(corr)\n",
        "\n",
        "mask[np.triu_indices_from(mask)] = True\n",
        "\n",
        "with sns.axes_style(\"white\"):\n",
        "    f, ax = plt.subplots(figsize=(18, 9))\n",
        "    ax = sns.heatmap(corr , mask=mask, vmin = -1,vmax=1, annot = True, cmap=\"YlGnBu\")\n"
      ],
      "metadata": {
        "id": "B2aS4O1ophqO"
      },
      "execution_count": null,
      "outputs": []
    },
    {
      "cell_type": "markdown",
      "source": [
        "##### 1. Why did you pick the specific chart?"
      ],
      "metadata": {
        "id": "gCFgpxoyphqP"
      }
    },
    {
      "cell_type": "markdown",
      "source": [
        "The correlation coefficient is a measure of the strength and direction of a linear relationship between two variables. A correlation matrix is used to summarize the relationships among a set of variables and is an important tool for data exploration and for selecting which variables to include in a model. The range of correlation is [-1,1].\n",
        "\n",
        "Thus to know the correlation between all the variables along with the correlation coeficients, we have used correlation heatmap."
      ],
      "metadata": {
        "id": "TVxDimi2phqP"
      }
    },
    {
      "cell_type": "markdown",
      "source": [
        "##### 2. What is/are the insight(s) found from the chart?"
      ],
      "metadata": {
        "id": "OVtJsKN_phqQ"
      }
    },
    {
      "cell_type": "markdown",
      "source": [
        "From above correlation map we can clearly see that:\n",
        "\n",
        "1.There is high multicolinearity between independent variable (i.e temperature & dew point temp, humidity & dew point temp, weekend & day of week).\n",
        "\n",
        "2.There is correlation of temperature, hour, dew point temp & solar radiation with dependent variable rented bike.\n",
        "Other than that we didnt see any correlation."
      ],
      "metadata": {
        "id": "ngGi97qjphqQ"
      }
    },
    {
      "cell_type": "markdown",
      "source": [
        "#### Chart - 15 - Pair Plot"
      ],
      "metadata": {
        "id": "q29F0dvdveiT"
      }
    },
    {
      "cell_type": "code",
      "source": [
        "# Pair Plot visualization code\n",
        "sns.pairplot(data_2)\n",
        "plt.show()"
      ],
      "metadata": {
        "id": "o58-TEIhveiU"
      },
      "execution_count": null,
      "outputs": []
    },
    {
      "cell_type": "markdown",
      "source": [
        "##### 1. Why did you pick the specific chart?"
      ],
      "metadata": {
        "id": "EXh0U9oCveiU"
      }
    },
    {
      "cell_type": "markdown",
      "source": [
        "A pairplot, also known as a scatterplot matrix, is a visualization that allows you to visualize the relationships between all pairs of variables in a dataset. It is a useful tool for data exploration because it allows you to quickly see how all of the variables in a dataset are related to one another.\n",
        "\n",
        "Thus, we used pair plot to analyse the patterns of data and realationship between the features. It's exactly same as the correlation map but here you will get the graphical representation."
      ],
      "metadata": {
        "id": "eMmPjTByveiU"
      }
    },
    {
      "cell_type": "markdown",
      "source": [
        "##### 2. What is/are the insight(s) found from the chart?"
      ],
      "metadata": {
        "id": "22aHeOlLveiV"
      }
    },
    {
      "cell_type": "markdown",
      "source": [
        "From above pair plot we got to know that, there is not clear linear relationship between variables. other than dew point temp, temperature & solar radiation there is not any reationship."
      ],
      "metadata": {
        "id": "uPQ8RGwHveiV"
      }
    },
    {
      "cell_type": "markdown",
      "source": [
        "## ***5. Hypothesis Testing***"
      ],
      "metadata": {
        "id": "g-ATYxFrGrvw"
      }
    },
    {
      "cell_type": "markdown",
      "source": [
        "### Based on your chart experiments, define three hypothetical statements from the dataset. In the next three questions, perform hypothesis testing to obtain final conclusion about the statements through your code and statistical testing."
      ],
      "metadata": {
        "id": "Yfr_Vlr8HBkt"
      }
    },
    {
      "cell_type": "markdown",
      "source": [
        "Based on above chart experiments we have noticed that our dependent variable does not seems to normally distributed so we have made hypothetical assumption that our data is normally distributed and for that we have decided to do statistical analysis."
      ],
      "metadata": {
        "id": "-7MS06SUHkB-"
      }
    },
    {
      "cell_type": "markdown",
      "source": [
        "### Hypothetical Statement - 1"
      ],
      "metadata": {
        "id": "8yEUt7NnHlrM"
      }
    },
    {
      "cell_type": "markdown",
      "source": [
        "#### 1. State Your research hypothesis as a null hypothesis and alternate hypothesis."
      ],
      "metadata": {
        "id": "tEA2Xm5dHt1r"
      }
    },
    {
      "cell_type": "markdown",
      "source": [
        "### Normality test\n",
        "\n",
        "for normality test we decided\n",
        "\n",
        "* Null hypothesis : Data is normally distributed\n",
        "* Alternate hypothesis : Data is not normally distributed"
      ],
      "metadata": {
        "id": "bFpf2vGjRzWv"
      }
    },
    {
      "cell_type": "markdown",
      "source": [
        "#### 2. Perform an appropriate statistical test."
      ],
      "metadata": {
        "id": "I79__PHVH19G"
      }
    },
    {
      "cell_type": "code",
      "source": [
        "# Perform Statistical Test to obtain P-Value\n",
        "from scipy.stats import shapiro\n",
        "test_data = data_2['rented_bike_count']\n",
        "stats,p = shapiro(test_data)\n",
        "print('stats = %.2f,p=%.3f' % (stats,p))\n",
        "if p <= 0.05:\n",
        "  print(\"Reject null hypothesis i.e Data is not normally distributed\")\n",
        "else:\n",
        "  print('Accept null hypothesis i.e Data is noramlly distributed')\n"
      ],
      "metadata": {
        "id": "oZrfquKtyian"
      },
      "execution_count": null,
      "outputs": []
    },
    {
      "cell_type": "markdown",
      "source": [
        "##### Which statistical test have you done to obtain P-Value?"
      ],
      "metadata": {
        "id": "Ou-I18pAyIpj"
      }
    },
    {
      "cell_type": "markdown",
      "source": [
        "use Shapiro-wilk statistical test to obtain the p-value and we got very less p-value which is less than 0.05."
      ],
      "metadata": {
        "id": "s2U0kk00ygSB"
      }
    },
    {
      "cell_type": "markdown",
      "source": [
        "##### Why did you choose the specific statistical test?"
      ],
      "metadata": {
        "id": "fF3858GYyt-u"
      }
    },
    {
      "cell_type": "markdown",
      "source": [
        "The Shapiro-Wilk test is used to test the normality of a sample. The test checks whether the sample data fits a normal distribution, which is often assumed for statistical analysis. The test results can help determine if the data should be transformed or if non-parametric statistical methods should be used instead of traditional parametric methods."
      ],
      "metadata": {
        "id": "HO4K0gP5y3B4"
      }
    },
    {
      "cell_type": "markdown",
      "source": [
        "## ***6. Feature Engineering & Data Pre-processing***"
      ],
      "metadata": {
        "id": "yLjJCtPM0KBk"
      }
    },
    {
      "cell_type": "markdown",
      "source": [
        "### 2. Handling Outliers"
      ],
      "metadata": {
        "id": "id1riN9m0vUs"
      }
    },
    {
      "cell_type": "code",
      "source": [
        "''' # Handling Outliers & Outlier treatments\n",
        "# Removing outliers by Using IQR method:\n",
        "q1, q3, median = data_2.rented_bike_count.quantile([0.25,0.75,0.5])\n",
        "lower_limit = q1 = 1.5 * (q3-q1)\n",
        "upper_limit = q3 + 1.5 * (q3-q1)\n",
        "data_2['rented_bike_count'] = np.where(data_2['rented_bike_count'] > upper_limit,median,np.where(data_2['rented_bike_count'] < lower_limit, median, data_2['rented_bike_count']))\n",
        "# removing outl;iers by capping :\n",
        "for col in ['wind_speed','solar_radiation','rainfall','snowfall']:\n",
        "  upper_limiot= data_2[col].quantile(0.99)\n",
        "  data_2[col]= np.where(data_2[col] > upper_limit ,upper_limit ,data_2[col]) '''"
      ],
      "metadata": {
        "id": "M6w2CzZf04JK"
      },
      "execution_count": null,
      "outputs": []
    },
    {
      "cell_type": "markdown",
      "source": [
        "##### What all outlier treatment techniques have you used and why did you use those techniques?"
      ],
      "metadata": {
        "id": "578E2V7j08f6"
      }
    },
    {
      "cell_type": "markdown",
      "source": [
        "Here we use IQR method and Capping method, Based on IQR method we set Upper limit and Lower limit of rented bike count and convert those outliers into median values.\n",
        "\n",
        "Also we capp outliers upto 99th percentile and above that we convert those outliers into upper limit value."
      ],
      "metadata": {
        "id": "uGZz5OrT1HH-"
      }
    },
    {
      "cell_type": "markdown",
      "source": [
        "Note :-\n",
        "\n",
        "* We have tried to remove the outliers but it is seen that there is drop in performance after removing the outliers around 10% drop in model performance\n",
        "* So, we have decided that we will perform the model without removing the outliers."
      ],
      "metadata": {
        "id": "JzyR6eX-VEbN"
      }
    },
    {
      "cell_type": "markdown",
      "source": [
        "### 3. Categorical Encoding"
      ],
      "metadata": {
        "id": "89xtkJwZ18nB"
      }
    },
    {
      "cell_type": "code",
      "source": [
        "# Converting snowfall and rainfall to categorical attributes\n",
        "data_2['snowfall'] = data_2['snowfall'].apply(lambda x :1 if x>0 else 0)\n",
        "data_2['ranifall'] = data_2['rainfall'].apply(lambda x :1 if x>0 else 0)"
      ],
      "metadata": {
        "id": "gPL3bL3VVTer"
      },
      "execution_count": null,
      "outputs": []
    },
    {
      "cell_type": "code",
      "source": [
        "# encoding the visibility column\n",
        "data_2['visibility'] = data_2['visibility'].apply(lambda x: 0 if 0<=x<=399 else (1 if 400<=x<=999 else 2))"
      ],
      "metadata": {
        "id": "GzS2XcFIVzs0"
      },
      "execution_count": null,
      "outputs": []
    },
    {
      "cell_type": "code",
      "source": [
        "# encoding\n",
        "data_2['functioning_day'] = np.where(data_2['functioning_day'] == 'Yes',1,0)\n",
        "data_2['holiday'] = np.where(data_2['holiday'] == 'Holiday', 1,0)"
      ],
      "metadata": {
        "id": "KyC2ikiBV5HI"
      },
      "execution_count": null,
      "outputs": []
    },
    {
      "cell_type": "code",
      "source": [
        "# one hot encoding\n",
        "data_2 = pd.get_dummies(data_2 ,columns = ['hour' ,'visibility' ,'month', 'day_of_week'])"
      ],
      "metadata": {
        "id": "VI_hbIY7WBDJ"
      },
      "execution_count": null,
      "outputs": []
    },
    {
      "cell_type": "code",
      "source": [
        "# Encode your categorical columns\n",
        "data_2.columns"
      ],
      "metadata": {
        "id": "21JmIYMG2hEo"
      },
      "execution_count": null,
      "outputs": []
    },
    {
      "cell_type": "markdown",
      "source": [
        "#### What all categorical encoding techniques have you used & why did you use those techniques?"
      ],
      "metadata": {
        "id": "67NQN5KX2AMe"
      }
    },
    {
      "cell_type": "markdown",
      "source": [
        "Since there are very few day on which there was snowfall / rainfall, it is in our interest that we convert these columns to binary categorical columns indicating whether there was rainfall / snowfall at that particular hour\n",
        "\n",
        "For visibility\n",
        "\n",
        "When\n",
        "\n",
        "Visibility >= 20 Km ---> Clear (high visibility)\n",
        "\n",
        "4 Km <= Visibility < 10 Km ---> Haze (medium visibility)\n",
        "\n",
        "Visibility < 4 Km ---> Fog (low visibility)\n",
        "\n",
        "Converting visibility based on the above mentioned threshold values. Since they are ordinal, we can encode them as 0 (low visibility), 1 (medium visibility), 2 (high visibility)\n",
        "\n",
        "For func day and holiday There are two categories whether its holiday or func day so we use 0 and 1 for that.\n",
        "\n",
        "For Hour, Visisbility, month & day of the week we use here one hot encoding"
      ],
      "metadata": {
        "id": "UDaue5h32n_G"
      }
    },
    {
      "cell_type": "markdown",
      "source": [
        "### 4. Feature Manipulation & Selection"
      ],
      "metadata": {
        "id": "-oLEiFgy-5Pf"
      }
    },
    {
      "cell_type": "markdown",
      "source": [
        "#### 1. Feature Manipulation"
      ],
      "metadata": {
        "id": "C74aWNz2AliB"
      }
    },
    {
      "cell_type": "code",
      "source": [
        "# Manipulate Features to minimize feature correlation and create new features\n",
        "# We see that the temperature and dew temperature are highly correlated\n",
        "# Scatter plot to visualize the relationship between\n",
        "# temperature and dew point temperature\n",
        "\n",
        "plt.figure(figsize =(12,6))\n",
        "sns.scatterplot(x = 'temperature',y = 'dew_point_temperature' ,data= data_2)\n",
        "plt.xlabel('temperature')\n",
        "plt.ylabel('dew_point_temperature')\n",
        "plt.title('Temperature VS Dew Point Temperature')\n",
        "plt.show()"
      ],
      "metadata": {
        "id": "h1qC4yhBApWC"
      },
      "execution_count": null,
      "outputs": []
    },
    {
      "cell_type": "code",
      "source": [
        "# correlation\n",
        "data_2[['temperature','dew_point_temperature']].corr()"
      ],
      "metadata": {
        "id": "r6zUtLuuXVkO"
      },
      "execution_count": null,
      "outputs": []
    },
    {
      "cell_type": "code",
      "source": [
        "# Creating new temperature column with 50% of both temp\n",
        "data_2['temp'] = 0.5 * data_2['temperature'] + 0.5 * data_2['dew_point_temperature']"
      ],
      "metadata": {
        "id": "ri2v3GRiXjky"
      },
      "execution_count": null,
      "outputs": []
    },
    {
      "cell_type": "markdown",
      "source": [
        "#### 2. Feature Selection"
      ],
      "metadata": {
        "id": "2DejudWSA-a0"
      }
    },
    {
      "cell_type": "code",
      "source": [
        "# Select your features wisely to avoid overfitting\n",
        "features = [i for i in data_2.columns if i not in ['rented_bike_count','temperature','dew_point_temperature']]\n",
        "features"
      ],
      "metadata": {
        "id": "YLhe8UmaBCEE"
      },
      "execution_count": null,
      "outputs": []
    },
    {
      "cell_type": "code",
      "source": [
        "#remove multicollinearity by using VIF technique\n",
        "from statsmodels.stats.outliers_influence import variance_inflation_factor\n",
        "def calc_vif(X):\n",
        "  # calculating VIF\n",
        "  vif = pd.DataFrame()\n",
        "  vif[\"variables\"] = X.columns\n",
        "  vif[\"VIF\"] = [variance_inflation_factor(X.values ,i)for i in range(X.shape[1])]\n",
        "  return(vif)"
      ],
      "metadata": {
        "id": "Gk2-Z0n9YMNR"
      },
      "execution_count": null,
      "outputs": []
    },
    {
      "cell_type": "code",
      "source": [
        "continuous_variables = ['temperature', 'humidity', 'wind_speed', 'dew_point_temperature', 'solar_radiation', 'temp']"
      ],
      "metadata": {
        "id": "TusCVxl4Y6gm"
      },
      "execution_count": null,
      "outputs": []
    },
    {
      "cell_type": "code",
      "source": [
        "continuous_feature_df = pd.DataFrame(data_2[continuous_variables])\n",
        "\n",
        "continuous_feature_df"
      ],
      "metadata": {
        "id": "F80s312RY_Gs"
      },
      "execution_count": null,
      "outputs": []
    },
    {
      "cell_type": "code",
      "source": [
        "calc_vif(data_2[[i for i in continuous_feature_df]])"
      ],
      "metadata": {
        "id": "QqLQ-zqzZYFv"
      },
      "execution_count": null,
      "outputs": []
    },
    {
      "cell_type": "code",
      "source": [
        "# Removing Temperature and dew point temperature\n",
        "calc_vif(data_2[[i for i in continuous_feature_df if i  not in ['dew_point_temperature','temperature']]])"
      ],
      "metadata": {
        "id": "V5LzJL_tZvz5"
      },
      "execution_count": null,
      "outputs": []
    },
    {
      "cell_type": "code",
      "source": [
        "# dropping data, weekend, temperature and dew_point_temperature\n",
        "data_2.drop(['date','weekend', 'dew_point_temperature', 'temperature','seasons'],axis=1, inplace=True)"
      ],
      "metadata": {
        "id": "qGgw6y3WaKMW"
      },
      "execution_count": null,
      "outputs": []
    },
    {
      "cell_type": "code",
      "source": [
        "data_2.head()"
      ],
      "metadata": {
        "id": "bpiauyqzaRJI"
      },
      "execution_count": null,
      "outputs": []
    },
    {
      "cell_type": "markdown",
      "source": [
        "##### What all feature selection methods have you used  and why?"
      ],
      "metadata": {
        "id": "pEMng2IbBLp7"
      }
    },
    {
      "cell_type": "markdown",
      "source": [
        "We have used pearson correlation coefficient to check correlation between variables and also with dependent variable\n",
        "\n",
        "And also we check the multicolinearity using VIF and remove those who are having high VIF value."
      ],
      "metadata": {
        "id": "rb2Lh6Z8BgGs"
      }
    },
    {
      "cell_type": "markdown",
      "source": [
        "##### Which all features you found important and why?"
      ],
      "metadata": {
        "id": "rAdphbQ9Bhjc"
      }
    },
    {
      "cell_type": "markdown",
      "source": [
        "From above methods we have found that there is high correlation between temperature and dew point temperature So, we take 50 % of the both and create new variable temp by adding both of them."
      ],
      "metadata": {
        "id": "fGgaEstsBnaf"
      }
    },
    {
      "cell_type": "markdown",
      "source": [
        "### 5. Data Transformation"
      ],
      "metadata": {
        "id": "TNVZ9zx19K6k"
      }
    },
    {
      "cell_type": "markdown",
      "source": [
        "#### Do you think that your data needs to be transformed? If yes, which transformation have you used. Explain Why?"
      ],
      "metadata": {
        "id": "nqoHp30x9hH9"
      }
    },
    {
      "cell_type": "code",
      "source": [
        "# Transform Your data\n",
        "# visualizing the distribution of the dependent variable - rental bike count\n",
        "plt.figure(figsize=(10,5))\n",
        "sns.distplot(data_2[dependent_variable])\n",
        "plt.xlabel(dependent_variable[0])\n",
        "plt.title(dependent_variable[0]+ 'distribution')\n",
        "plt.axvline(data_2[dependent_variable[0]].mean(),color = 'blue' ,linestyle='dashed', linewidth= 3 )\n",
        "plt.axvline(data_2[dependent_variable[0]].median(),color ='pink' ,linestyle='dashed', linewidth = 3)\n",
        "plt.show()"
      ],
      "metadata": {
        "id": "I6quWQ1T9rtH"
      },
      "execution_count": null,
      "outputs": []
    },
    {
      "cell_type": "code",
      "source": [
        "# skew of the dependent variable\n",
        "\n",
        "data_2[dependent_variable].skew()"
      ],
      "metadata": {
        "id": "SdU7RyQ_b-2c"
      },
      "execution_count": null,
      "outputs": []
    },
    {
      "cell_type": "code",
      "source": [
        "# Defining dependent and independent variables\n",
        "X = data_2.drop('rented_bike_count',axis=1)\n",
        "y = np.sqrt(data_2[dependent_variable])"
      ],
      "metadata": {
        "id": "Q4SL0hzQcdjB"
      },
      "execution_count": null,
      "outputs": []
    },
    {
      "cell_type": "code",
      "source": [
        "X"
      ],
      "metadata": {
        "id": "KEPZzwMucgjC"
      },
      "execution_count": null,
      "outputs": []
    },
    {
      "cell_type": "code",
      "source": [
        "features"
      ],
      "metadata": {
        "id": "NRfLyNs_ci6E"
      },
      "execution_count": null,
      "outputs": []
    },
    {
      "cell_type": "markdown",
      "source": [
        "We plot distribution plot and also we did normality test using shapiro wilk and we have found that our data is  normally distributed it does not need any  transformation.\n",
        "Still, I have checked to get the skewness value and we have found that rented bike attribute is zero skewness value .\n"
      ],
      "metadata": {
        "id": "Pl05qF9cct1C"
      }
    },
    {
      "cell_type": "markdown",
      "source": [
        "### 6. Data Scaling"
      ],
      "metadata": {
        "id": "rMDnDkt2B6du"
      }
    },
    {
      "cell_type": "code",
      "source": [
        "# Scaling your data\n",
        "features = [ i for i in data_2.columns if i not in ['rented_bike_count']]"
      ],
      "metadata": {
        "id": "dL9LWpySC6x_"
      },
      "execution_count": null,
      "outputs": []
    },
    {
      "cell_type": "code",
      "source": [
        "# Scaling your data\n",
        "scaler = StandardScaler()\n",
        "numerical_features = data_2[features].select_dtypes(include=['number'])\n",
        "X = scaler.fit_transform(numerical_features)"
      ],
      "metadata": {
        "id": "H1A6XxU5dnVh"
      },
      "execution_count": null,
      "outputs": []
    },
    {
      "cell_type": "markdown",
      "source": [
        "##### Which method have you used to scale you data and why?"
      ],
      "metadata": {
        "id": "yiiVWRdJDDil"
      }
    },
    {
      "cell_type": "markdown",
      "source": [
        "In this we have different independent features of different scale so we have used standard scalar method to scale our independent features into one scale."
      ],
      "metadata": {
        "id": "sMh3j11rd4w8"
      }
    },
    {
      "cell_type": "markdown",
      "source": [
        "### 8. Data Splitting"
      ],
      "metadata": {
        "id": "BhH2vgX9EjGr"
      }
    },
    {
      "cell_type": "code",
      "source": [
        "# Split your data to train and test. Choose Splitting ratio wisely.\n",
        "X_train ,X_test,y_train,y_test = train_test_split(X, y, test_size = 0.2 , random_state = 0)\n"
      ],
      "metadata": {
        "id": "0CTyd2UwEyNM"
      },
      "execution_count": null,
      "outputs": []
    },
    {
      "cell_type": "markdown",
      "source": [
        "##### What data splitting ratio have you used and why?"
      ],
      "metadata": {
        "id": "qjKvONjwE8ra"
      }
    },
    {
      "cell_type": "markdown",
      "source": [
        "To train the model we have split the data into train and test using train_test_split method\n",
        "\n",
        "We have split 80% of our data into train and 20% into test."
      ],
      "metadata": {
        "id": "Y2lJ8cobFDb_"
      }
    },
    {
      "cell_type": "markdown",
      "source": [
        "## ***7. ML Model Implementation***"
      ],
      "metadata": {
        "id": "VfCC591jGiD4"
      }
    },
    {
      "cell_type": "code",
      "source": [
        "# Calculate Evaluation Matrix\n",
        "# Defining a function to print evaluation matrix\n",
        "def evaluate_model(model, y_test, y_pred):\n",
        "  # Squring the y test and and pred as we have used sqrt transformation\n",
        "  y_t = np.square(y_test)\n",
        "  y_p = np.square(y_pred)\n",
        "  y_train2 = np.square(y_train)\n",
        "  y_train_pred = np.square(model.predict(X_train))\n",
        "\n",
        "  # Calculate Evaluation Matrix - these calculations need to be inside the function\n",
        "  mse = mean_squared_error(y_t, y_p)\n",
        "  mae = mean_absolute_error(y_t, y_p)\n",
        "  rmse = np.sqrt(mse)\n",
        "  r2_train = r2_score(y_train2, y_train_pred)\n",
        "  r2 = r2_score(y_t, y_p)\n",
        "  r2_adjusted = 1 - (1 - r2) * ((len(X_test) - 1) / (len(X_test) - X_test.shape[1] - 1))\n",
        "\n",
        "  # Print Evaluation Matrix\n",
        "  print(\"MSE:\", mse)\n",
        "  print(\"RMSE:\", rmse)\n",
        "  print(\"MAE:\", mae)\n",
        "  print(\"Train R2:\", r2_train)\n",
        "  print(\"Test R2:\", r2)\n",
        "  print(\"Adjusted R2:\", r2_adjusted)\n",
        "\n",
        "  # Plot actual and predicted values\n",
        "  plt.figure(figsize=(18, 6))\n",
        "  plt.plot((y_p)[:100])\n",
        "  plt.plot((np.array(y_t))[:100])\n",
        "  plt.legend([\"Predicted\", \"Actual\"])\n",
        "  plt.title('Actual and Predicted Bike Count', fontsize=18)\n",
        "\n",
        "  try:\n",
        "      importance = model.feature_importances_\n",
        "  except:\n",
        "      importance = model.coef_\n",
        "  importance = np.absolute(importance)\n",
        "  if len(importance) == len(features):\n",
        "      pass\n",
        "  else:\n",
        "      importance = importance[0]\n",
        "\n",
        "  # Feature importances\n",
        "  feat = pd.Series(importance, index=features[:9]) #Fixed indentation\n",
        "  plt.figure(figsize=(12, 8))\n",
        "  plt.title('Feature Importances (top 9) for ' + str(model), fontsize=18)\n",
        "  plt.xlabel('Relative Importance')\n",
        "  feat.nlargest(20).plot(kind='barh')\n",
        "\n",
        "  model_score = {\n",
        "      'MSE': mse,\n",
        "      'MAE': mae,\n",
        "      'RMSE': rmse,\n",
        "      'Train R2': r2_train,\n",
        "      'Test R2': r2,\n",
        "      'Adjusted R2': r2_adjusted\n",
        "  }\n",
        "\n",
        "  return model_score"
      ],
      "metadata": {
        "id": "MfUZl-wFAB4g"
      },
      "execution_count": null,
      "outputs": []
    },
    {
      "cell_type": "code",
      "source": [
        "# Create a score dataframe\n",
        "score = pd.DataFrame(index = ['MSE', 'RMSE','MAE', 'Train R2', 'Test R2', 'Adjusted R2'])"
      ],
      "metadata": {
        "id": "rwmTszAOBGyk"
      },
      "execution_count": null,
      "outputs": []
    },
    {
      "cell_type": "markdown",
      "source": [
        "### ML Model - 1 : Linear Regression"
      ],
      "metadata": {
        "id": "OB4l2ZhMeS1U"
      }
    },
    {
      "cell_type": "markdown",
      "source": [
        "#### 1. Explain the ML Model used and it's performance using Evaluation metric Score Chart."
      ],
      "metadata": {
        "id": "ArJBuiUVfxKd"
      }
    },
    {
      "cell_type": "code",
      "source": [
        "# ML Model - 1 Implementation\n",
        "reg =LinearRegression()\n",
        "reg.fit(X_train,y_train)\n",
        "y_pred_li = reg.predict(X_test)\n",
        "linear_score = evaluate_model(reg, y_test,y_pred_li)\n",
        "# Evaluation Metric Score chart\n",
        "score['Linear regression'] = linear_score\n"
      ],
      "metadata": {
        "id": "gJaNjMb_B2Wx"
      },
      "execution_count": null,
      "outputs": []
    },
    {
      "cell_type": "code",
      "source": [
        "score"
      ],
      "metadata": {
        "id": "pyzj6pp9-G3M"
      },
      "execution_count": null,
      "outputs": []
    },
    {
      "cell_type": "markdown",
      "source": [
        "So, using linear regression model we have got accuracy(i.e R2 score) around 45% on train data and same 44% on test data. Which seems to low to predict on unseen data."
      ],
      "metadata": {
        "id": "x8rwXJbc_Tqe"
      }
    },
    {
      "cell_type": "markdown",
      "source": [
        "#### 2. Cross- Validation & Hyperparameter Tuning"
      ],
      "metadata": {
        "id": "4qY1EAkEfxKe"
      }
    },
    {
      "cell_type": "code",
      "source": [
        "# ML Model - 1 Implementation with hyperparameter optimization techniques (i.e., GridSearch CV, RandomSearch CV, Bayesian Optimization etc.)\n",
        "# Define the model\n",
        "reg = LinearRegression()\n",
        "\n",
        "# Define the parameters to be optimized\n",
        "param_grid = {'fit_intercept': [True, False]}\n",
        "\n",
        "# Perform grid search\n",
        "grid_search = GridSearchCV(reg, param_grid, cv=5, scoring='r2', return_train_score=True)\n",
        "grid_search.fit(X_train, y_train)"
      ],
      "metadata": {
        "id": "Dy61ujd6fxKe"
      },
      "execution_count": null,
      "outputs": []
    },
    {
      "cell_type": "code",
      "source": [
        "# Print the best parameters and the corresponding score\n",
        "print(\"Best parameters: \", grid_search.best_params_)\n",
        "print(\"Best R2 score: \", grid_search.best_score_)"
      ],
      "metadata": {
        "id": "7iEittB2-2eJ"
      },
      "execution_count": null,
      "outputs": []
    },
    {
      "cell_type": "code",
      "source": [
        "# use the best parameter to train the model\n",
        "best_reg = grid_search.best_estimator_\n",
        "best_reg.fit(X_train, y_train)"
      ],
      "metadata": {
        "id": "HkXwvWr--5OU"
      },
      "execution_count": null,
      "outputs": []
    },
    {
      "cell_type": "code",
      "source": [
        "# predict on test data\n",
        "y_pred_li2 = best_reg.predict(X_test)"
      ],
      "metadata": {
        "id": "QgFYMbJ6-9lr"
      },
      "execution_count": null,
      "outputs": []
    },
    {
      "cell_type": "code",
      "source": [
        "linear_score2 = evaluate_model(best_reg, y_test,y_pred_li2)"
      ],
      "metadata": {
        "id": "WeoNMfXx_A2H"
      },
      "execution_count": null,
      "outputs": []
    },
    {
      "cell_type": "code",
      "source": [
        "score['Linear regression tuned'] = linear_score2"
      ],
      "metadata": {
        "id": "rUqrKXXh_EuT"
      },
      "execution_count": null,
      "outputs": []
    },
    {
      "cell_type": "code",
      "source": [
        "score"
      ],
      "metadata": {
        "id": "Z_VY9495949r"
      },
      "execution_count": null,
      "outputs": []
    },
    {
      "cell_type": "markdown",
      "source": [
        "##### Which hyperparameter optimization technique have you used and why?"
      ],
      "metadata": {
        "id": "PiV4Ypx8fxKe"
      }
    },
    {
      "cell_type": "markdown",
      "source": [
        "GridSearchCV is used to find the best hyperparameters for a machine learning model by searching over a specified parameter grid. It helps to ensure that a model is not overfitting or underfitting by evaluating the model's performance using cross-validation techniques. GridSearchCV can save time and resources compared to manually tuning the parameters of a model.\n",
        "\n",
        "To reduce time and effort we have used GridSearchCV."
      ],
      "metadata": {
        "id": "negyGRa7fxKf"
      }
    },
    {
      "cell_type": "markdown",
      "source": [
        "##### Have you seen any improvement? Note down the improvement with updates Evaluation metric Score Chart."
      ],
      "metadata": {
        "id": "TfvqoZmBfxKf"
      }
    },
    {
      "cell_type": "markdown",
      "source": [
        "After using GridSearchCV it has seen that there is no improvment in the model. There is no change in train R2 score.\n",
        "\n",
        "So, we have decided to move ahead with next regression model."
      ],
      "metadata": {
        "id": "OaLui8CcfxKf"
      }
    },
    {
      "cell_type": "markdown",
      "source": [
        "### ML Model - 2 :  Lasso Regression\n",
        "\n",
        "\n",
        "\n"
      ],
      "metadata": {
        "id": "dJ2tPlVmpsJ0"
      }
    },
    {
      "cell_type": "code",
      "source": [
        "# Import the Lasso Regression class\n",
        "lasso = Lasso()\n",
        "# Initialize an instance of the class\n",
        "lasso.fit(X_train,y_train)\n",
        "# Fit the lasso regression model to your training data\n",
        "y_pred_lasso1 = lasso.predict(X_test)"
      ],
      "metadata": {
        "id": "l0tuBZK4_iZp"
      },
      "execution_count": null,
      "outputs": []
    },
    {
      "cell_type": "markdown",
      "source": [
        "#### 1. Explain the ML Model used and it's performance using Evaluation metric Score Chart."
      ],
      "metadata": {
        "id": "JWYfwnehpsJ1"
      }
    },
    {
      "cell_type": "code",
      "source": [
        "# Visualizing evaluation Metric Score chart\n",
        "lasso_score = evaluate_model(lasso,y_test,y_pred_lasso1)\n",
        "score['Lasso regression']= lasso_score"
      ],
      "metadata": {
        "id": "yEl-hgQWpsJ1"
      },
      "execution_count": null,
      "outputs": []
    },
    {
      "cell_type": "code",
      "source": [
        "score"
      ],
      "metadata": {
        "id": "0KsbdakjAoku"
      },
      "execution_count": null,
      "outputs": []
    },
    {
      "cell_type": "markdown",
      "source": [
        "It is seen that using Lasso regression analysis the performance of the model has drop down. so we will try to tuned the model."
      ],
      "metadata": {
        "id": "wPzfhlE-AxkU"
      }
    },
    {
      "cell_type": "markdown",
      "source": [
        "#### 2. Cross- Validation & Hyperparameter Tuning"
      ],
      "metadata": {
        "id": "-jK_YjpMpsJ2"
      }
    },
    {
      "cell_type": "code",
      "source": [
        "# ML Model - 1 Implementation with hyperparameter optimization techniques (i.e., GridSearch CV, RandomSearch CV, Bayesian Optimization etc.)\n",
        "#import Lasso regressor and grid search cv\n",
        "lasso = Lasso()\n",
        "\n",
        "parameters = {'alpha': [1e-15,1e-10,1e-8,1e-5,1e-4,1e-3,1e-2,1,5,10,20,30,40,45,50,55,60,100]}\n",
        "lasso_regressor = GridSearchCV(lasso, parameters, scoring='neg_mean_squared_error', cv=5)\n",
        "#fitting model\n",
        "lasso_regressor.fit(X_train,y_train)"
      ],
      "metadata": {
        "id": "Dn0EOfS6psJ2"
      },
      "execution_count": null,
      "outputs": []
    },
    {
      "cell_type": "code",
      "source": [
        "#getting optimum parameters\n",
        "print(\"The optimum alpha value is found out to be :\" ,lasso_regressor.best_params_)\n",
        "print(\"\\nUsing \",lasso_regressor.best_params_, \" the negative mean squared error is: \", lasso_regressor.best_score_)"
      ],
      "metadata": {
        "id": "aP4o6YnhBEYv"
      },
      "execution_count": null,
      "outputs": []
    },
    {
      "cell_type": "code",
      "source": [
        "# Import the Lasso Regression class with best alpha\n",
        "lasso = Lasso(alpha = lasso_regressor.best_params_['alpha'])\n",
        "\n",
        "# Initialize an instance of the class\n",
        "lasso.fit(X_train, y_train)\n",
        "\n",
        "# Fit the lasso regression model to your training data\n",
        "y_pred_lassocv = lasso.predict(X_test)"
      ],
      "metadata": {
        "id": "as4i1QF5BGk-"
      },
      "execution_count": null,
      "outputs": []
    },
    {
      "cell_type": "code",
      "source": [
        "#Evaluation matrices for Lasso regression\n",
        "\n",
        "lasso2 = evaluate_model(lasso_regressor.best_estimator_, y_test,y_pred_lassocv) # Use lasso_regressor.best_estimator_\n",
        "name = 'Lasso with alpha = ' + str(lasso_regressor.best_params_['alpha'])\n",
        "score[name] = lasso2"
      ],
      "metadata": {
        "id": "rakC85BKC7fj"
      },
      "execution_count": null,
      "outputs": []
    },
    {
      "cell_type": "markdown",
      "source": [
        "##### Which hyperparameter optimization technique have you used and why?"
      ],
      "metadata": {
        "id": "HAih1iBOpsJ2"
      }
    },
    {
      "cell_type": "markdown",
      "source": [
        "\n",
        "GridSearchCV is used to find the best hyperparameters for a machine learning model by searching over a specified parameter grid. It helps to ensure that a model is not overfitting or underfitting by evaluating the model's performance using cross-validation techniques. GridSearchCV can save time and resources compared to manually tuning the parameters of a model.\n",
        "\n",
        "To reduce time and effort we have used GridSearchCV."
      ],
      "metadata": {
        "id": "9kBgjYcdpsJ2"
      }
    },
    {
      "cell_type": "markdown",
      "source": [
        "##### Have you seen any improvement? Note down the improvement with updates Evaluation metric Score Chart."
      ],
      "metadata": {
        "id": "zVGeBEFhpsJ2"
      }
    },
    {
      "cell_type": "code",
      "source": [
        "score"
      ],
      "metadata": {
        "id": "1LC_ZAhFBP1n"
      },
      "execution_count": null,
      "outputs": []
    },
    {
      "cell_type": "markdown",
      "source": [
        " ### ML Model - 3 : Decision Tree"
      ],
      "metadata": {
        "id": "Fze-IPXLpx6K"
      }
    },
    {
      "cell_type": "code",
      "source": [
        "# ML Model - 3 Implementation\n",
        "dt = DecisionTreeRegressor(random_state=1)\n",
        "# Fit the Algorithm\n",
        "dt.fit(X_train,y_train)\n",
        "# Predict on the model\n",
        "y_pred_dt1 = dt.predict(X_test)"
      ],
      "metadata": {
        "id": "FFrSXAtrpx6M"
      },
      "execution_count": null,
      "outputs": []
    },
    {
      "cell_type": "code",
      "source": [
        "# Evaluation Metric Score chart\n",
        "result = evaluate_model(dt, y_test,y_pred_dt1)\n",
        "score['Decision tree'] = result\n"
      ],
      "metadata": {
        "id": "Z8PVKCK7BgPw"
      },
      "execution_count": null,
      "outputs": []
    },
    {
      "cell_type": "code",
      "source": [
        "score"
      ],
      "metadata": {
        "id": "kNlypXw_DIyX"
      },
      "execution_count": null,
      "outputs": []
    },
    {
      "cell_type": "markdown",
      "source": [
        "From the decision tree algorithm we got train R2 score is 1 and test R2 score is 37% .\n",
        "So, we have decided to tune our data using GridSearchCV."
      ],
      "metadata": {
        "id": "vUyOSS_WfKPE"
      }
    },
    {
      "cell_type": "markdown",
      "source": [
        "#### 2. Cross- Validation & Hyperparameter Tuning"
      ],
      "metadata": {
        "id": "9PIHJqyupx6M"
      }
    },
    {
      "cell_type": "code",
      "source": [
        "# ML Model - 3 Implementation with hyperparameter optimization techniques (i.e., GridSearch CV, RandomSearch CV, Bayesian Optimization etc.)\n",
        "# Regressor\n",
        "dt_model = DecisionTreeRegressor(random_state=1)\n",
        "# HYperparameter Grid\n",
        "grid = {'max_depth' : [8,10,12,14,16],\n",
        "        'min_samples_split' : np.arange(35,50),\n",
        "        'min_samples_leaf' : np.arange(22,31,2)}\n",
        "# fitting model with hypertuned paramaters using grid search\n",
        "dt_gridsearch = GridSearchCV(dt_model,\n",
        "                             grid,\n",
        "                             cv=6,\n",
        "                             scoring= 'neg_root_mean_squared_error')\n",
        "dt_gridsearch.fit(X_train,y_train)\n",
        "dt_best_params = dt_gridsearch.best_params_"
      ],
      "metadata": {
        "id": "eSVXuaSKpx6M"
      },
      "execution_count": null,
      "outputs": []
    },
    {
      "cell_type": "code",
      "source": [
        "dt_best_params\n"
      ],
      "metadata": {
        "id": "WEWIzgEODYea"
      },
      "execution_count": null,
      "outputs": []
    },
    {
      "cell_type": "code",
      "source": [
        "# building DT model with best parameters\n",
        "dt_model = DecisionTreeRegressor(max_depth=dt_best_params['max_depth'],\n",
        "                                 min_samples_leaf=dt_best_params['min_samples_leaf'],\n",
        "                                 min_samples_split=dt_best_params['min_samples_split'],\n",
        "                                 random_state=1)"
      ],
      "metadata": {
        "id": "s0HQTxLMDbXf"
      },
      "execution_count": null,
      "outputs": []
    },
    {
      "cell_type": "code",
      "source": [
        "# fitting model\n",
        "dt_model.fit(X_train,y_train)"
      ],
      "metadata": {
        "id": "Zkl1gOo3DeHv"
      },
      "execution_count": null,
      "outputs": []
    },
    {
      "cell_type": "code",
      "source": [
        "# dt test predictions\n",
        "y_pred_dt = dt_model.predict(X_test)\n"
      ],
      "metadata": {
        "id": "3irF0l7hDh-S"
      },
      "execution_count": null,
      "outputs": []
    },
    {
      "cell_type": "code",
      "source": [
        "#Evaluation matrices for DecisionTree\n",
        "result = evaluate_model(dt_model, y_test,y_pred_dt)\n",
        "score['Decision tree tuned'] = result"
      ],
      "metadata": {
        "id": "nE2UKC1vDlTV"
      },
      "execution_count": null,
      "outputs": []
    },
    {
      "cell_type": "code",
      "source": [
        "# Convert X_train to a DataFrame if it's a NumPy array\n",
        "if isinstance(X_train, np.ndarray):\n",
        "    X_train = pd.DataFrame(X_train)  # Convert to DataFrame\n",
        "\n",
        "# Get the correct feature names from X_train\n",
        "feature_names = X_train.columns\n",
        "\n",
        "graph = Source(tree.export_graphviz(dt_model,\n",
        "                                    out_file=None,\n",
        "                                    feature_names=feature_names, # Use the correct feature names\n",
        "                                    filled= True))\n",
        "display(SVG(graph.pipe(format='svg')))"
      ],
      "metadata": {
        "id": "jgrAvc44DpOe"
      },
      "execution_count": null,
      "outputs": []
    },
    {
      "cell_type": "markdown",
      "source": [
        "##### Which hyperparameter optimization technique have you used and why?"
      ],
      "metadata": {
        "id": "_-qAgymDpx6N"
      }
    },
    {
      "cell_type": "markdown",
      "source": [
        "GridSearchCV is used to find the best hyperparameters for a machine learning model by searching over a specified parameter grid. It helps to ensure that a model is not overfitting or underfitting by evaluating the model's performance using cross-validation techniques. GridSearchCV can save time and resources compared to manually tuning the parameters of a model.\n",
        "\n",
        "To reduce time and effort we have used GridSearchCV."
      ],
      "metadata": {
        "id": "lQMffxkwpx6N"
      }
    },
    {
      "cell_type": "markdown",
      "source": [
        "##### Have you seen any improvement? Note down the improvement with updates Evaluation metric Score Chart."
      ],
      "metadata": {
        "id": "Z-hykwinpx6N"
      }
    },
    {
      "cell_type": "code",
      "source": [
        "score"
      ],
      "metadata": {
        "id": "cGOJGmQPDxab"
      },
      "execution_count": null,
      "outputs": []
    },
    {
      "cell_type": "markdown",
      "source": [
        "From the above tuned Decision tree regression. It Has seen that earlier that we have faced underfitting condition. After tuning it there is no such condition and it looks like model performs with good accuracy around 68% on train and 60% on test data."
      ],
      "metadata": {
        "id": "_0hbnHQufkcl"
      }
    },
    {
      "cell_type": "markdown",
      "source": [
        "## **ML Model - 4 : Ridge Regression**"
      ],
      "metadata": {
        "id": "MflNjNXCD4oA"
      }
    },
    {
      "cell_type": "code",
      "source": [
        "# Ridge regressor class\n",
        "ridge = Ridge()\n",
        "#prediction for Ridge regression\n",
        "ridge.fit(X_train, y_train)\n",
        "# Predict on the model\n",
        "y_pred_ridge1 = ridge.predict(X_test)"
      ],
      "metadata": {
        "id": "skxeEu60EB2R"
      },
      "execution_count": null,
      "outputs": []
    },
    {
      "cell_type": "markdown",
      "source": [
        "**1. Explain the ML Model used and it's performance using Evaluation metric Score Chart.**"
      ],
      "metadata": {
        "id": "qqR8DZCaEGKA"
      }
    },
    {
      "cell_type": "code",
      "source": [
        "# Evaluation Metric Score chart\n",
        "result = evaluate_model(ridge, y_test,y_pred_ridge1)\n",
        "score['Ridge'] = result"
      ],
      "metadata": {
        "id": "DecICOV4EIbT"
      },
      "execution_count": null,
      "outputs": []
    },
    {
      "cell_type": "code",
      "source": [
        "score"
      ],
      "metadata": {
        "id": "XIV55IdSELyY"
      },
      "execution_count": null,
      "outputs": []
    },
    {
      "cell_type": "markdown",
      "source": [
        "We have used Ridge regression technique to check the performance of the model and we have found that there is no significant difference in between linear regression and Ridge"
      ],
      "metadata": {
        "id": "Fv0SjqHfeeyK"
      }
    },
    {
      "cell_type": "markdown",
      "source": [
        "**2. Cross- Validation & Hyperparameter Tuning**"
      ],
      "metadata": {
        "id": "afYEc1N1ehrH"
      }
    },
    {
      "cell_type": "code",
      "source": [
        "# Import Ridge regressor Class\n",
        "ridge = Ridge()\n",
        "parameters = {'alpha': [1e-15,1e-10,1e-8,1e-5,1e-4,1e-3,1e-2,1,5,10,20,30,40,45,50,55,60,100]}\n",
        "ridge_regressor = GridSearchCV(ridge, parameters, scoring='neg_mean_squared_error', cv=5)\n",
        "#fitting model\n",
        "ridge_regressor.fit(X_train,y_train)"
      ],
      "metadata": {
        "id": "IEWD68gkek15"
      },
      "execution_count": null,
      "outputs": []
    },
    {
      "cell_type": "code",
      "source": [
        "#getting optimum parameters\n",
        "print(\"The best fit alpha value is found out to be :\" ,ridge_regressor.best_params_)\n",
        "print(\"\\nUsing \",ridge_regressor.best_params_, \" the negative mean squared error is: \", ridge_regressor.best_score_)"
      ],
      "metadata": {
        "id": "rtyLXzKYeom5"
      },
      "execution_count": null,
      "outputs": []
    },
    {
      "cell_type": "code",
      "source": [
        "# Initiate ridge with best alpha\n",
        "ridge = Ridge(alpha = ridge_regressor.best_params_['alpha'])\n",
        "#prediction for Ridge regression\n",
        "ridge.fit(X_train, y_train)\n",
        "# Predict on model\n",
        "y_pred_ridge = ridge.predict(X_test)"
      ],
      "metadata": {
        "id": "hgZSwAK4eum-"
      },
      "execution_count": null,
      "outputs": []
    },
    {
      "cell_type": "code",
      "source": [
        "#Evaluation matrices for Ridge regression\n",
        "result = evaluate_model(ridge, y_test,y_pred_ridge)\n",
        "namer = 'Ridge with alpha = ' + str(ridge_regressor.best_params_['alpha'])\n",
        "score[namer] = result"
      ],
      "metadata": {
        "id": "zNJXFlDXeyU9"
      },
      "execution_count": null,
      "outputs": []
    },
    {
      "cell_type": "markdown",
      "source": [
        "**Which hyperparameter optimization technique have you used and why?**\n",
        "\n",
        "GridSearchCV is used to find the best hyperparameters for a machine learning model by searching over a specified parameter grid. It helps to ensure that a model is not overfitting or underfitting by evaluating the model's performance using cross-validation techniques. GridSearchCV can save time and resources compared to manually tuning the parameters of a model.\n",
        "\n",
        "To reduce time and effort we have used GridSearchCV."
      ],
      "metadata": {
        "id": "BWR4cv4Re4TS"
      }
    },
    {
      "cell_type": "markdown",
      "source": [
        "**Have you seen any improvement? Note down the improvement with updates Evaluation metric Score Chart.**"
      ],
      "metadata": {
        "id": "vS3fm131e73W"
      }
    },
    {
      "cell_type": "code",
      "source": [
        "score\n"
      ],
      "metadata": {
        "id": "G0RXa6KMe-OU"
      },
      "execution_count": null,
      "outputs": []
    },
    {
      "cell_type": "markdown",
      "source": [
        "We have tuned Ridge regression using hyperparametric technique & check the performance of the model and we have found that there is no significant difference in between tuned and without tuned.\n",
        "\n",
        "It performs well only when there is multicolinearity or overfitting situation is present in our case we have already handle the multicolinearity situation, thats why it is not showing any difference in performance."
      ],
      "metadata": {
        "id": "nzxdDwAhfDZH"
      }
    },
    {
      "cell_type": "markdown",
      "source": [
        "## **ML Model - 5 : Random Forest**"
      ],
      "metadata": {
        "id": "W0C_1UW2ER6Y"
      }
    },
    {
      "cell_type": "code",
      "source": [
        "# ML Model - 5 Implementation\n",
        "rf = RandomForestRegressor(random_state=0)\n",
        "# Fit the Algorithm\n",
        "rf.fit(X_train,y_train)\n",
        "# Predict on the model\n",
        "y_pred_rf1 = rf.predict(X_test)"
      ],
      "metadata": {
        "id": "4oI0B0LREVaz"
      },
      "execution_count": null,
      "outputs": []
    },
    {
      "cell_type": "markdown",
      "source": [
        "**1. Explain the ML Model used and it's performance using Evaluation metric Score Chart.**"
      ],
      "metadata": {
        "id": "EyjQJ9zNEZGl"
      }
    },
    {
      "cell_type": "code",
      "source": [
        "# Visualizing evaluation Metric Score chart\n",
        "result = evaluate_model(rf, y_test,y_pred_rf1)\n",
        "score['Random forest'] = result"
      ],
      "metadata": {
        "id": "-Csut-8rEbe6"
      },
      "execution_count": null,
      "outputs": []
    },
    {
      "cell_type": "code",
      "source": [
        "score"
      ],
      "metadata": {
        "id": "_MPDLGmSEhDD"
      },
      "execution_count": null,
      "outputs": []
    },
    {
      "cell_type": "markdown",
      "source": [
        "Here we have seen that using random forest regression accuracy of the train and test model increases 94% and 64% respectively. which seems to be a good model for prediction."
      ],
      "metadata": {
        "id": "dBdEsWQFf7RR"
      }
    },
    {
      "cell_type": "markdown",
      "source": [
        "**2. Cross- Validation & Hyperparameter Tuning**"
      ],
      "metadata": {
        "id": "CksoLDcMEnip"
      }
    },
    {
      "cell_type": "code",
      "source": [
        "# random forest model\n",
        "rf_model = RandomForestRegressor(random_state=0)\n",
        "rf_params = {'n_estimators':[300],                    # limited due to computational power availability\n",
        "             'min_samples_leaf':np.arange(20,25)}"
      ],
      "metadata": {
        "id": "BurZ_9_cErJd"
      },
      "execution_count": null,
      "outputs": []
    },
    {
      "cell_type": "code",
      "source": [
        "# fitting a rf model with best parameters obtained from gridsearch\n",
        "rf_gridsearch = GridSearchCV(rf_model,rf_params,cv=6,scoring='neg_root_mean_squared_error')\n",
        "rf_gridsearch.fit(X_train,y_train)\n",
        "rf_best_params = rf_gridsearch.best_params_"
      ],
      "metadata": {
        "id": "K-Zrwf4LEwVq"
      },
      "execution_count": null,
      "outputs": []
    },
    {
      "cell_type": "code",
      "source": [
        "# best parameters for random forests\n",
        "rf_best_params"
      ],
      "metadata": {
        "id": "3nHwB39YEzP4"
      },
      "execution_count": null,
      "outputs": []
    },
    {
      "cell_type": "code",
      "source": [
        "# Fitting RF model with best parameters\n",
        "rf_model = RandomForestRegressor(n_estimators=rf_best_params['n_estimators'],\n",
        "                                 min_samples_leaf=rf_best_params['min_samples_leaf'],\n",
        "                                 random_state=0)"
      ],
      "metadata": {
        "id": "Os5ZoPwaE2DW"
      },
      "execution_count": null,
      "outputs": []
    },
    {
      "cell_type": "code",
      "source": [
        "# fit\n",
        "rf_model.fit(X_train,y_train)\n"
      ],
      "metadata": {
        "id": "K6wm4JLFE5XJ"
      },
      "execution_count": null,
      "outputs": []
    },
    {
      "cell_type": "code",
      "source": [
        "# rf predictions on test data\n",
        "y_pred_rf = rf_model.predict(X_test)"
      ],
      "metadata": {
        "id": "UVoAk0r8E78F"
      },
      "execution_count": null,
      "outputs": []
    },
    {
      "cell_type": "code",
      "source": [
        "#Evaluation matrices for RandomForest\n",
        "result = evaluate_model(rf_model, y_test,y_pred_rf)\n",
        "score['Random forest tuned'] = result"
      ],
      "metadata": {
        "id": "C66YTl_DE93z"
      },
      "execution_count": null,
      "outputs": []
    },
    {
      "cell_type": "markdown",
      "source": [
        "**Which hyperparameter optimization technique have you used and why?**"
      ],
      "metadata": {
        "id": "vjEx6rN2FSBO"
      }
    },
    {
      "cell_type": "markdown",
      "source": [
        "GridSearchCV is used to find the best hyperparameters for a machine learning model by searching over a specified parameter grid. It helps to ensure that a model is not overfitting or underfitting by evaluating the model's performance using cross-validation techniques. GridSearchCV can save time and resources compared to manually tuning the parameters of a model.\n",
        "\n",
        "To reduce time and effort we have used GridSearchCV."
      ],
      "metadata": {
        "id": "tATRSCQXFPrM"
      }
    },
    {
      "cell_type": "markdown",
      "source": [
        "**Have you seen any improvement? Note down the improvement with updates Evaluation metric Score Chart.**"
      ],
      "metadata": {
        "id": "mmnGMdlAFXHP"
      }
    },
    {
      "cell_type": "code",
      "source": [
        "score"
      ],
      "metadata": {
        "id": "mRFf9hrqFYxp"
      },
      "execution_count": null,
      "outputs": []
    },
    {
      "cell_type": "markdown",
      "source": [
        "After using the Randomised search CV our model performs very well it gave accuracy 70% on train data & 64% on test data which is very good model accuracy."
      ],
      "metadata": {
        "id": "KR8HZD2ngrM4"
      }
    },
    {
      "cell_type": "markdown",
      "source": [
        "## **ML Model  - 6 : Gradient Boosting Regressor**"
      ],
      "metadata": {
        "id": "-xiHmXidFdh4"
      }
    },
    {
      "cell_type": "code",
      "source": [
        "# ML Model - 3 Implementation\n",
        "gb = GradientBoostingRegressor(random_state=0)\n",
        "# Fit the Algorithm\n",
        "gb.fit(X_train,y_train)\n",
        "# Predict on the model\n",
        "y_pred_gb1 = gb.predict(X_test)"
      ],
      "metadata": {
        "id": "PS8F3lIVFpV4"
      },
      "execution_count": null,
      "outputs": []
    },
    {
      "cell_type": "markdown",
      "source": [
        "**1. Explain the ML Model used and it's performance using Evaluation metric Score Chart.**"
      ],
      "metadata": {
        "id": "kpi9i_61FxhL"
      }
    },
    {
      "cell_type": "code",
      "source": [
        "# Evaluation Metric Score chart\n",
        "result = evaluate_model(gb, y_test,y_pred_gb1)\n",
        "score['Gradient Boosting Regressor'] = result"
      ],
      "metadata": {
        "id": "6JgmZB0hF0sn"
      },
      "execution_count": null,
      "outputs": []
    },
    {
      "cell_type": "code",
      "source": [
        "score"
      ],
      "metadata": {
        "id": "KO02U29zF4hr"
      },
      "execution_count": null,
      "outputs": []
    },
    {
      "cell_type": "markdown",
      "source": [
        "**Which hyperparameter optimization technique have you used and why?**\n",
        "\n",
        "Randomized search cross-validation (CV) is used to efficiently explore the hyperparameter space of a machine learning model. It works by randomly sampling from the search space of hyperparameters, rather than exhaustively trying every possible combination. This allows for a more efficient search while still providing a good chance of finding good hyperparameter values. Additionally, by using cross-validation to evaluate the performance of each set of hyperparameters, one can ensure that the model is not overfitting to the training data.\n",
        "\n",
        "Because of its randomly sampling technique and to save the time we have decided to use Randomised search CV."
      ],
      "metadata": {
        "id": "DvGZUbrrGDOT"
      }
    },
    {
      "cell_type": "markdown",
      "source": [
        "**Have you seen any improvement? Note down the improvement with updates Evaluation metric Score Chart.**"
      ],
      "metadata": {
        "id": "lIaZj2LoGJOY"
      }
    },
    {
      "cell_type": "code",
      "source": [
        "score"
      ],
      "metadata": {
        "id": "94YKahLiGLCD"
      },
      "execution_count": null,
      "outputs": []
    },
    {
      "cell_type": "markdown",
      "source": [
        "**2. Cross- Validation & Hyperparameter Tuning**"
      ],
      "metadata": {
        "id": "eMcbscwyg98P"
      }
    },
    {
      "cell_type": "code",
      "source": [
        "# GBM model\n",
        "gb_model = GradientBoostingRegressor(random_state=0)\n",
        "gb_params = {'n_estimators':[300],\n",
        "             'min_samples_leaf':np.arange(20,24),\n",
        "             'max_depth':np.arange(14,17)\n",
        "             }"
      ],
      "metadata": {
        "id": "21nTaBwuhAt8"
      },
      "execution_count": null,
      "outputs": []
    },
    {
      "cell_type": "code",
      "source": [
        "# Perform the randomized search\n",
        "random_search = RandomizedSearchCV(gb_model, param_distributions=gb_params, cv=6, n_iter=20, scoring='neg_root_mean_squared_error', n_jobs=-1)\n",
        "random_search.fit(X_train, y_train)\n",
        "\n",
        "gb_best_params = random_search.best_params_"
      ],
      "metadata": {
        "id": "qxL9YxZRhnB7"
      },
      "execution_count": null,
      "outputs": []
    },
    {
      "cell_type": "code",
      "source": [
        "# GBM best parameters\n",
        "gb_best_params"
      ],
      "metadata": {
        "id": "nyyOfsgTibD8"
      },
      "execution_count": null,
      "outputs": []
    },
    {
      "cell_type": "code",
      "source": [
        "# Building GBM model with best parameters\n",
        "gb_model = GradientBoostingRegressor(n_estimators=gb_best_params['n_estimators'],\n",
        "                                     min_samples_leaf=gb_best_params['min_samples_leaf'],\n",
        "                                     max_depth = gb_best_params['max_depth'],\n",
        "                                     random_state=0)"
      ],
      "metadata": {
        "id": "UaHsJVg-id8X"
      },
      "execution_count": null,
      "outputs": []
    },
    {
      "cell_type": "code",
      "source": [
        "# fit\n",
        "gb_model.fit(X_train,y_train)"
      ],
      "metadata": {
        "id": "jn8zUGX3i_Mx"
      },
      "execution_count": null,
      "outputs": []
    },
    {
      "cell_type": "code",
      "source": [
        "# gradient boosting test predictions\n",
        "y_pred_gb = gb_model.predict(X_test)"
      ],
      "metadata": {
        "id": "61BpYLrtjX8b"
      },
      "execution_count": null,
      "outputs": []
    },
    {
      "cell_type": "code",
      "source": [
        "#Evaluation matrices for GradientBoosting\n",
        "result = evaluate_model(gb_model, y_test,y_pred_gb)\n",
        "score['Gradient Boosting Regressor Tuned'] = result\n"
      ],
      "metadata": {
        "id": "BXACqHm1jaPe"
      },
      "execution_count": null,
      "outputs": []
    },
    {
      "cell_type": "markdown",
      "source": [
        "**Which hyperparameter optimization technique have you used and why?**\n",
        "\n",
        "Randomized search cross-validation (CV) is used to efficiently explore the hyperparameter space of a machine learning model. It works by randomly sampling from the search space of hyperparameters, rather than exhaustively trying every possible combination. This allows for a more efficient search while still providing a good chance of finding good hyperparameter values. Additionally, by using cross-validation to evaluate the performance of each set of hyperparameters, one can ensure that the model is not overfitting to the training data.\n",
        "\n",
        "Because of its randomly sampling technique and to save the time we have decided to use Randomised search CV."
      ],
      "metadata": {
        "id": "bJVhiLNrjc86"
      }
    },
    {
      "cell_type": "markdown",
      "source": [
        "**Have you seen any improvement? Note down the improvement with updates Evaluation metric Score Chart.**"
      ],
      "metadata": {
        "id": "SzQC13n0jgjq"
      }
    },
    {
      "cell_type": "code",
      "source": [
        "score"
      ],
      "metadata": {
        "id": "ZKWsxcC4jj_Q"
      },
      "execution_count": null,
      "outputs": []
    },
    {
      "cell_type": "markdown",
      "source": [
        "After using the Randomised search CV our model performs very well it gave accuracy 64% on train data & 64% on test data which is good model accuracy."
      ],
      "metadata": {
        "id": "asjcBoiMjoP4"
      }
    },
    {
      "cell_type": "markdown",
      "source": [
        "\n",
        "## **ML Model - 7 : Xtreme Gradient Boosting Regressor**"
      ],
      "metadata": {
        "id": "O38gJk05GOnU"
      }
    },
    {
      "cell_type": "code",
      "source": [
        "# ML Model - 7 Implementation\n",
        "xgb_model = xgb.XGBRegressor(random_state=0,\n",
        "                             objective='reg:squarederror')\n",
        "# Fit the Algorithm\n",
        "xgb_model.fit(X_train,y_train)\n",
        "# Predict on the model\n",
        "y_pred_xgb1 = xgb_model.predict(X_test)"
      ],
      "metadata": {
        "id": "V_N1tY2tGYg4"
      },
      "execution_count": null,
      "outputs": []
    },
    {
      "cell_type": "markdown",
      "source": [
        "### **1. Explain the ML Model used and it's performance using Evaluation metric Score Chart.**"
      ],
      "metadata": {
        "id": "TsGV3qsjGdmU"
      }
    },
    {
      "cell_type": "code",
      "source": [
        "# Evaluation Metric Score chart\n",
        "result = evaluate_model(xgb_model, y_test,y_pred_xgb1)\n",
        "score['Xtreme Gradient Boosting Regressor'] = result"
      ],
      "metadata": {
        "id": "hzNJ7Og5Gc_U"
      },
      "execution_count": null,
      "outputs": []
    },
    {
      "cell_type": "code",
      "source": [
        "score"
      ],
      "metadata": {
        "id": "Ncar5HmHl4LN"
      },
      "execution_count": null,
      "outputs": []
    },
    {
      "cell_type": "markdown",
      "source": [
        "**2. Cross- Validation & Hyperparameter Tuning**"
      ],
      "metadata": {
        "id": "tZLhWDbFl9OT"
      }
    },
    {
      "cell_type": "code",
      "source": [
        "# xg boost\n",
        "xgb_model = xgb.XGBRegressor(random_state=0,\n",
        "                             objective='reg:squarederror')\n",
        "xgb_params = {'n_estimators':[500],\n",
        "             'min_samples_leaf':np.arange(20,22)}"
      ],
      "metadata": {
        "id": "I1y5oPEqmA20"
      },
      "execution_count": null,
      "outputs": []
    },
    {
      "cell_type": "code",
      "source": [
        "# finding best parameters\n",
        "xgb_search = RandomizedSearchCV(xgb_model,xgb_params,cv=6,scoring='neg_root_mean_squared_error',n_iter=100, n_jobs=-1)\n",
        "xgb_search.fit(X_train,y_train)\n",
        "xgb_best_params = xgb_search.best_params_"
      ],
      "metadata": {
        "id": "nReVO7KImC5_"
      },
      "execution_count": null,
      "outputs": []
    },
    {
      "cell_type": "code",
      "source": [
        "# xg boost best parameters\n",
        "xgb_best_params"
      ],
      "metadata": {
        "id": "rpcFJkvnmF-x"
      },
      "execution_count": null,
      "outputs": []
    },
    {
      "cell_type": "code",
      "source": [
        "# Building a XG boost model with best parameters\n",
        "xgb_model = xgb.XGBRegressor(n_estimators=xgb_best_params['n_estimators'],\n",
        "                             min_samples_leaf=xgb_best_params['min_samples_leaf'],\n",
        "                             random_state=0)"
      ],
      "metadata": {
        "id": "PwkTj_tCmIny"
      },
      "execution_count": null,
      "outputs": []
    },
    {
      "cell_type": "code",
      "source": [
        "# fit\n",
        "xgb_model.fit(X_train,y_train)"
      ],
      "metadata": {
        "id": "kM1onsDumMGS"
      },
      "execution_count": null,
      "outputs": []
    },
    {
      "cell_type": "code",
      "source": [
        "# xtreme gradient boosting test predictions\n",
        "y_pred_xgb = xgb_model.predict(X_test)\n"
      ],
      "metadata": {
        "id": "EiItSy3_mPl5"
      },
      "execution_count": null,
      "outputs": []
    },
    {
      "cell_type": "code",
      "source": [
        "#Evaluation matrices for XGBRegressor\n",
        "result = evaluate_model(xgb_model, y_test,y_pred_xgb)\n",
        "score['Xtreme Gradient Boosting Regressor Tuned'] = result"
      ],
      "metadata": {
        "id": "YPIGDHIwmSlY"
      },
      "execution_count": null,
      "outputs": []
    },
    {
      "cell_type": "markdown",
      "source": [
        "**Which hyperparameter optimization technique have you used and why?**\n",
        "\n",
        "Randomized search cross-validation (CV) is used to efficiently explore the hyperparameter space of a machine learning model. It works by randomly sampling from the search space of hyperparameters, rather than exhaustively trying every possible combination. This allows for a more efficient search while still providing a good chance of finding good hyperparameter values. Additionally, by using cross-validation to evaluate the performance of each set of hyperparameters, one can ensure that the model is not overfitting to the training data.\n",
        "\n",
        "Because of its randomly sampling technique and to save the time we have decided to use Randomised search CV."
      ],
      "metadata": {
        "id": "1vSi5DxjmXJR"
      }
    },
    {
      "cell_type": "markdown",
      "source": [
        "**Have you seen any improvement? Note down the improvement with updates Evaluation metric Score Chart.**"
      ],
      "metadata": {
        "id": "NVxJtetomaTC"
      }
    },
    {
      "cell_type": "code",
      "source": [
        "score"
      ],
      "metadata": {
        "id": "I0m-Rg8dmcm4"
      },
      "execution_count": null,
      "outputs": []
    },
    {
      "cell_type": "markdown",
      "source": [
        "After tuning the model we have got accuracy on train data arround 97 % and 59% on test data which is good but need more accuracy."
      ],
      "metadata": {
        "id": "mJRGV8cqmfoE"
      }
    },
    {
      "cell_type": "markdown",
      "source": [
        "**Plot R2 scores for each model**"
      ],
      "metadata": {
        "id": "3mm9oNxjmr4G"
      }
    },
    {
      "cell_type": "code",
      "source": [
        "score.columns"
      ],
      "metadata": {
        "id": "FQifMoGTmvPp"
      },
      "execution_count": null,
      "outputs": []
    },
    {
      "cell_type": "code",
      "source": [
        "# R2 Scores plot\n",
        "models = list(score.columns)\n",
        "train = score.iloc[-3,:]\n",
        "test = score.iloc[-2,:]\n",
        "X_axis = np.arange(len(models))\n",
        "plt.figure(figsize=(25,10))\n",
        "plt.bar(X_axis - 0.2, train, 0.4, label = 'Train R2 Score')\n",
        "plt.bar(X_axis + 0.2, test, 0.4, label = 'Test R2 Score')\n",
        "plt.xticks(X_axis,models, rotation=30)\n",
        "plt.ylabel(\"R2 Score\")\n",
        "plt.title(\"R2 score for each model\")\n",
        "plt.legend()\n",
        "plt.show()"
      ],
      "metadata": {
        "id": "y70mTBiam0Zs"
      },
      "execution_count": null,
      "outputs": []
    },
    {
      "cell_type": "markdown",
      "source": [
        "***Plot of adjusted R2 score***"
      ],
      "metadata": {
        "id": "1yA0mYq4nDNI"
      }
    },
    {
      "cell_type": "code",
      "source": [
        "# Removing the overfitted models which have more than 5% gap between train and test values\n",
        "score_t = score.transpose()            #taking transpose of the score dataframe to create new difference column\n",
        "score_t['diff']=score_t['Train R2']-score_t['Test R2']                   #creating new column diff of train R2 and test R2 score\n",
        "remove_models = list(score_t[score_t['diff']>=.05].index)                #creating a list of models which have difference more than .05 that is 5%\n",
        "remove_models\n",
        "\n",
        "adj = score_t['Adjusted R2'].drop(remove_models)                     #creating a new dataframe with required models and adjusted r2 score\n",
        "\n",
        "plt.figure(figsize=(14,8))\n",
        "plots = sns.barplot(x=list(adj.index), y=adj)\n",
        "for bar in plots.patches:\n",
        "  plots.annotate(format(bar.get_height(),'.2f'),\n",
        "                   (bar.get_x() + bar.get_width() / 2,\n",
        "                    bar.get_height()), ha='center', va='center',\n",
        "                   size=12, xytext=(0, 8),\n",
        "                   textcoords='offset points')\n",
        "plt.xticks(rotation=30)\n",
        "\n",
        "plt.title(\" Adjusted R2 score\", fontsize = 20)\n",
        "plt.xlabel('Models', fontsize = 15)\n",
        "plt.ylabel('Score', fontsize = 15)\n",
        "# Setting limit of the y axis from 0 to 30\n",
        "plt.ylim(0,1)\n",
        "plt.show()\n"
      ],
      "metadata": {
        "id": "tJYxNGjNm-wk"
      },
      "execution_count": null,
      "outputs": []
    },
    {
      "cell_type": "markdown",
      "source": [
        "**1. Which Evaluation metrics did you consider for a positive business impact and why?**\n",
        "\n",
        "On the basis of all the model we have decided to select R2 score Evaluation matrics which shows the accuracy of the model which is very good indicator to check the feasibility of the model."
      ],
      "metadata": {
        "id": "Si9aa3qdnMD8"
      }
    },
    {
      "cell_type": "markdown",
      "source": [
        "### 2. Which ML model did you choose from the above created models as your final prediction model and why?"
      ],
      "metadata": {
        "id": "cBFFvTBNJzUa"
      }
    },
    {
      "cell_type": "markdown",
      "source": [
        "We have ran a several models like linear regression, decision tree, random forest, gradient boosting, and xtreame gradient boosting but amongst them we have selected xtreame gradient boosting regressor (tuned) as we achieved 63% training accuracy and 63% testing accuracy."
      ],
      "metadata": {
        "id": "6ksF5Q1LKTVm"
      }
    },
    {
      "cell_type": "markdown",
      "source": [
        "### 3. Explain the model which you have used and the feature importance using any model explainability tool?"
      ],
      "metadata": {
        "id": "HvGl1hHyA_VK"
      }
    },
    {
      "cell_type": "markdown",
      "source": [
        "## **SHAP(Shapley additive Explanations)**"
      ],
      "metadata": {
        "id": "YnvVTiIxBL-C"
      }
    },
    {
      "cell_type": "code",
      "source": [
        "pip install shap"
      ],
      "metadata": {
        "id": "qurVMam4n3_d"
      },
      "execution_count": null,
      "outputs": []
    },
    {
      "cell_type": "code",
      "source": [
        "# importing shap\n",
        "import shap"
      ],
      "metadata": {
        "id": "rukCxAqFoAE_"
      },
      "execution_count": null,
      "outputs": []
    },
    {
      "cell_type": "code",
      "source": [
        "#Shap explainer for xgb (tree based)\n",
        "explainer = shap.TreeExplainer(xgb_model, X_train, feature_names=features)"
      ],
      "metadata": {
        "id": "NGbAVvJRoDaU"
      },
      "execution_count": null,
      "outputs": []
    },
    {
      "cell_type": "code",
      "source": [
        "#Shap explainer for xgb (tree based)\n",
        "explainer = shap.TreeExplainer(xgb_model, X_train, feature_names=features)\n",
        "# Calculate SHAP values for the first instance in the test set\n",
        "shap_values = explainer(X_test)\n",
        "# Create the SHAP force plot for the first instance\n",
        "# Use array indexing to select the first row of X_test\n",
        "shap.plots.force(shap_values[0])"
      ],
      "metadata": {
        "id": "GmhM_kaepoTD"
      },
      "execution_count": null,
      "outputs": []
    },
    {
      "cell_type": "markdown",
      "source": [
        "The force plot shows the shap values for a particular instance.\n",
        "\n",
        "Here we have considered the 50th index row values for the plot. We can see that the prediction is 21.33 (sqrt value). The different contribution of the columns is shown for getting the prediction."
      ],
      "metadata": {
        "id": "0jrmCgFmqtD6"
      }
    },
    {
      "cell_type": "code",
      "source": [
        "# get shap values of test data\n",
        "shap_values = explainer(X_test)"
      ],
      "metadata": {
        "id": "XKRG4p9RodFV"
      },
      "execution_count": null,
      "outputs": []
    },
    {
      "cell_type": "code",
      "source": [
        "shap.summary_plot(shap_values, X_test)"
      ],
      "metadata": {
        "id": "yCkXbKajofBR"
      },
      "execution_count": null,
      "outputs": []
    },
    {
      "cell_type": "markdown",
      "source": [
        "In the summary plot we can see the top 9 columns and their impact on the prediction. The red color indicates that the value of the columns is high and blue color shows that the value of the column is low.\n",
        "\n",
        "For categorical columns, we have zeros and ones where zero is blue color and one is red color.\n",
        "\n",
        "Shap values are also displayed and the impact on the prediction is also shown. towards the right hand side, the impact is positive (increases the predicted value) and towards the left hand side, the impace is negative (decreases the predicted value)."
      ],
      "metadata": {
        "id": "yxIPJ-8Kol18"
      }
    },
    {
      "cell_type": "code",
      "source": [
        "# Obtain a Bar Summary Plot\n",
        "shap.summary_plot(shap_values, X_test, plot_type=\"bar\")"
      ],
      "metadata": {
        "id": "y6h2YUecop9t"
      },
      "execution_count": null,
      "outputs": []
    },
    {
      "cell_type": "markdown",
      "source": [
        "This bar plot shows the top 9 important features and the mean shap values. It shows the average impact on the model output magnitude.\n",
        "\n",
        "It does not show the positive or negative impact on the prediction."
      ],
      "metadata": {
        "id": "SsDYBMS7ovBp"
      }
    },
    {
      "cell_type": "markdown",
      "source": [
        "## ***8.*** ***Future Work (Optional)***"
      ],
      "metadata": {
        "id": "EyNgTHvd2WFk"
      }
    },
    {
      "cell_type": "markdown",
      "source": [
        "### 1. Save the best performing ml model in a pickle file or joblib file format for deployment process.\n"
      ],
      "metadata": {
        "id": "KH5McJBi2d8v"
      }
    },
    {
      "cell_type": "code",
      "source": [
        "# Save the File\n",
        "# Import pickle\n",
        "import pickle\n",
        "\n",
        "# Save the best model (XGB)\n",
        "pickle.dump(xgb_model, open('xgbmodel.pkl', 'wb'))"
      ],
      "metadata": {
        "id": "bQIANRl32f4J"
      },
      "execution_count": null,
      "outputs": []
    },
    {
      "cell_type": "markdown",
      "source": [
        "### 2. Again Load the saved model file and try to predict unseen data for a sanity check.\n"
      ],
      "metadata": {
        "id": "iW_Lq9qf2h6X"
      }
    },
    {
      "cell_type": "code",
      "source": [
        "# Load the File and predict unseen data.\n",
        "pickled_model = pickle.load(open('xgbmodel.pkl', 'rb'))\n",
        "\n",
        "# create a list for the x test value for the 50 index row\n",
        "predict_new = [list(X_test[50])] # Use X_test[50] to get the 50th row and enclose in a list\n",
        "\n",
        "# Testing on one instance which we used for shap X_test[50,:]\n",
        "pickled_model.predict(predict_new)"
      ],
      "metadata": {
        "id": "t5RRZe89JhBJ"
      },
      "execution_count": null,
      "outputs": []
    },
    {
      "cell_type": "markdown",
      "source": [
        "# **Conclusion**"
      ],
      "metadata": {
        "id": "gCX9965dhzqZ"
      }
    },
    {
      "cell_type": "markdown",
      "source": [
        "The project successfully demonstrated the feasibility of using machine learning techniques to predict bike demand in Seoul.\n",
        "\n",
        "Some of the key points are:-\n",
        "\n",
        "* High demand in the morning and evening.\n",
        "* Less Demand in the winter season.\n",
        "* Highest demand in june.\n",
        "* Found multicollinearity between temperature and dew point temperature.\n",
        "*Perform linear regression, decision tree, random forest, gradient boosting, Xtreme gradient boosting. & got highest accuracy i.e 93% on train and 90% on test on Xtreme gradient boosting.\n",
        "*There is no use of removing outliers it affects negatively on model performance.\n",
        "\n",
        "Overall, the project highlights the potential of machine learning in solving real-world problems and provides a roadmap for future research in this area. The findings of this project can be extended to other cities with similar bike sharing systems, leading to more effective and efficient bike sharing operations, and better outcomes for all stakeholders."
      ],
      "metadata": {
        "id": "Fjb1IsQkh3yE"
      }
    },
    {
      "cell_type": "markdown",
      "source": [
        "### ***Hurrah! You have successfully completed your Machine Learning Capstone Project !!!***"
      ],
      "metadata": {
        "id": "gIfDvo9L0UH2"
      }
    }
  ]
}